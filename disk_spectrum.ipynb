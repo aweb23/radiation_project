{
  "nbformat": 4,
  "nbformat_minor": 0,
  "metadata": {
    "colab": {
      "provenance": []
    },
    "kernelspec": {
      "name": "python3",
      "display_name": "Python 3"
    },
    "language_info": {
      "name": "python"
    },
    "widgets": {
      "application/vnd.jupyter.widget-state+json": {
        "b02a8d7ba29b496fa1f1464f08b0b62b": {
          "model_module": "@jupyter-widgets/controls",
          "model_name": "VBoxModel",
          "model_module_version": "1.5.0",
          "state": {
            "_dom_classes": [
              "widget-interact"
            ],
            "_model_module": "@jupyter-widgets/controls",
            "_model_module_version": "1.5.0",
            "_model_name": "VBoxModel",
            "_view_count": null,
            "_view_module": "@jupyter-widgets/controls",
            "_view_module_version": "1.5.0",
            "_view_name": "VBoxView",
            "box_style": "",
            "children": [
              "IPY_MODEL_93e7b5ed220c4017b5d14e78b61dc8cf",
              "IPY_MODEL_7305559223c9466fb3799d57701c0326"
            ],
            "layout": "IPY_MODEL_b3e1e9033d6242d1bf8023cbd39eb3e0"
          }
        },
        "93e7b5ed220c4017b5d14e78b61dc8cf": {
          "model_module": "@jupyter-widgets/controls",
          "model_name": "FloatSliderModel",
          "model_module_version": "1.5.0",
          "state": {
            "_dom_classes": [],
            "_model_module": "@jupyter-widgets/controls",
            "_model_module_version": "1.5.0",
            "_model_name": "FloatSliderModel",
            "_view_count": null,
            "_view_module": "@jupyter-widgets/controls",
            "_view_module_version": "1.5.0",
            "_view_name": "FloatSliderView",
            "continuous_update": true,
            "description": "t",
            "description_tooltip": null,
            "disabled": false,
            "layout": "IPY_MODEL_3f841704d6764093b54ea2121eb7ae61",
            "max": 50,
            "min": 0.1,
            "orientation": "horizontal",
            "readout": true,
            "readout_format": ".2f",
            "step": 0.1,
            "style": "IPY_MODEL_df17964fe5764c8fa555d25f3080ccb7",
            "value": 6
          }
        },
        "7305559223c9466fb3799d57701c0326": {
          "model_module": "@jupyter-widgets/output",
          "model_name": "OutputModel",
          "model_module_version": "1.0.0",
          "state": {
            "_dom_classes": [],
            "_model_module": "@jupyter-widgets/output",
            "_model_module_version": "1.0.0",
            "_model_name": "OutputModel",
            "_view_count": null,
            "_view_module": "@jupyter-widgets/output",
            "_view_module_version": "1.0.0",
            "_view_name": "OutputView",
            "layout": "IPY_MODEL_bc74f8f3db1e407997f0c278b4bfaaf4",
            "msg_id": "",
            "outputs": [
              {
                "output_type": "stream",
                "name": "stderr",
                "text": [
                  "WARNING:matplotlib.legend:No artists with labels found to put in legend.  Note that artists whose label start with an underscore are ignored when legend() is called with no argument.\n"
                ]
              },
              {
                "output_type": "display_data",
                "data": {
                  "text/plain": "<Figure size 640x480 with 1 Axes>",
                  "image/png": "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\n"
                },
                "metadata": {}
              }
            ]
          }
        },
        "b3e1e9033d6242d1bf8023cbd39eb3e0": {
          "model_module": "@jupyter-widgets/base",
          "model_name": "LayoutModel",
          "model_module_version": "1.2.0",
          "state": {
            "_model_module": "@jupyter-widgets/base",
            "_model_module_version": "1.2.0",
            "_model_name": "LayoutModel",
            "_view_count": null,
            "_view_module": "@jupyter-widgets/base",
            "_view_module_version": "1.2.0",
            "_view_name": "LayoutView",
            "align_content": null,
            "align_items": null,
            "align_self": null,
            "border": null,
            "bottom": null,
            "display": null,
            "flex": null,
            "flex_flow": null,
            "grid_area": null,
            "grid_auto_columns": null,
            "grid_auto_flow": null,
            "grid_auto_rows": null,
            "grid_column": null,
            "grid_gap": null,
            "grid_row": null,
            "grid_template_areas": null,
            "grid_template_columns": null,
            "grid_template_rows": null,
            "height": null,
            "justify_content": null,
            "justify_items": null,
            "left": null,
            "margin": null,
            "max_height": null,
            "max_width": null,
            "min_height": null,
            "min_width": null,
            "object_fit": null,
            "object_position": null,
            "order": null,
            "overflow": null,
            "overflow_x": null,
            "overflow_y": null,
            "padding": null,
            "right": null,
            "top": null,
            "visibility": null,
            "width": null
          }
        },
        "3f841704d6764093b54ea2121eb7ae61": {
          "model_module": "@jupyter-widgets/base",
          "model_name": "LayoutModel",
          "model_module_version": "1.2.0",
          "state": {
            "_model_module": "@jupyter-widgets/base",
            "_model_module_version": "1.2.0",
            "_model_name": "LayoutModel",
            "_view_count": null,
            "_view_module": "@jupyter-widgets/base",
            "_view_module_version": "1.2.0",
            "_view_name": "LayoutView",
            "align_content": null,
            "align_items": null,
            "align_self": null,
            "border": null,
            "bottom": null,
            "display": null,
            "flex": null,
            "flex_flow": null,
            "grid_area": null,
            "grid_auto_columns": null,
            "grid_auto_flow": null,
            "grid_auto_rows": null,
            "grid_column": null,
            "grid_gap": null,
            "grid_row": null,
            "grid_template_areas": null,
            "grid_template_columns": null,
            "grid_template_rows": null,
            "height": null,
            "justify_content": null,
            "justify_items": null,
            "left": null,
            "margin": null,
            "max_height": null,
            "max_width": null,
            "min_height": null,
            "min_width": null,
            "object_fit": null,
            "object_position": null,
            "order": null,
            "overflow": null,
            "overflow_x": null,
            "overflow_y": null,
            "padding": null,
            "right": null,
            "top": null,
            "visibility": null,
            "width": null
          }
        },
        "df17964fe5764c8fa555d25f3080ccb7": {
          "model_module": "@jupyter-widgets/controls",
          "model_name": "SliderStyleModel",
          "model_module_version": "1.5.0",
          "state": {
            "_model_module": "@jupyter-widgets/controls",
            "_model_module_version": "1.5.0",
            "_model_name": "SliderStyleModel",
            "_view_count": null,
            "_view_module": "@jupyter-widgets/base",
            "_view_module_version": "1.2.0",
            "_view_name": "StyleView",
            "description_width": "",
            "handle_color": null
          }
        },
        "bc74f8f3db1e407997f0c278b4bfaaf4": {
          "model_module": "@jupyter-widgets/base",
          "model_name": "LayoutModel",
          "model_module_version": "1.2.0",
          "state": {
            "_model_module": "@jupyter-widgets/base",
            "_model_module_version": "1.2.0",
            "_model_name": "LayoutModel",
            "_view_count": null,
            "_view_module": "@jupyter-widgets/base",
            "_view_module_version": "1.2.0",
            "_view_name": "LayoutView",
            "align_content": null,
            "align_items": null,
            "align_self": null,
            "border": null,
            "bottom": null,
            "display": null,
            "flex": null,
            "flex_flow": null,
            "grid_area": null,
            "grid_auto_columns": null,
            "grid_auto_flow": null,
            "grid_auto_rows": null,
            "grid_column": null,
            "grid_gap": null,
            "grid_row": null,
            "grid_template_areas": null,
            "grid_template_columns": null,
            "grid_template_rows": null,
            "height": null,
            "justify_content": null,
            "justify_items": null,
            "left": null,
            "margin": null,
            "max_height": null,
            "max_width": null,
            "min_height": null,
            "min_width": null,
            "object_fit": null,
            "object_position": null,
            "order": null,
            "overflow": null,
            "overflow_x": null,
            "overflow_y": null,
            "padding": null,
            "right": null,
            "top": null,
            "visibility": null,
            "width": null
          }
        },
        "e6b7cb8eae7744cd93d50eca183fddbd": {
          "model_module": "@jupyter-widgets/controls",
          "model_name": "VBoxModel",
          "model_module_version": "1.5.0",
          "state": {
            "_dom_classes": [
              "widget-interact"
            ],
            "_model_module": "@jupyter-widgets/controls",
            "_model_module_version": "1.5.0",
            "_model_name": "VBoxModel",
            "_view_count": null,
            "_view_module": "@jupyter-widgets/controls",
            "_view_module_version": "1.5.0",
            "_view_name": "VBoxView",
            "box_style": "",
            "children": [
              "IPY_MODEL_64348afb44e342b3a6c91ce388cc21e7",
              "IPY_MODEL_9b074564a35445e99b36899b05be8cb9"
            ],
            "layout": "IPY_MODEL_20516dc16cb94033b8f4528303296347"
          }
        },
        "64348afb44e342b3a6c91ce388cc21e7": {
          "model_module": "@jupyter-widgets/controls",
          "model_name": "FloatSliderModel",
          "model_module_version": "1.5.0",
          "state": {
            "_dom_classes": [],
            "_model_module": "@jupyter-widgets/controls",
            "_model_module_version": "1.5.0",
            "_model_name": "FloatSliderModel",
            "_view_count": null,
            "_view_module": "@jupyter-widgets/controls",
            "_view_module_version": "1.5.0",
            "_view_name": "FloatSliderView",
            "continuous_update": true,
            "description": "t",
            "description_tooltip": null,
            "disabled": false,
            "layout": "IPY_MODEL_7bb3845040d84dd3ad2130938c06534a",
            "max": 50,
            "min": 0.1,
            "orientation": "horizontal",
            "readout": true,
            "readout_format": ".2f",
            "step": 0.1,
            "style": "IPY_MODEL_c7d96e40740a4e7fbecf9ff89301e830",
            "value": 0.1
          }
        },
        "9b074564a35445e99b36899b05be8cb9": {
          "model_module": "@jupyter-widgets/output",
          "model_name": "OutputModel",
          "model_module_version": "1.0.0",
          "state": {
            "_dom_classes": [],
            "_model_module": "@jupyter-widgets/output",
            "_model_module_version": "1.0.0",
            "_model_name": "OutputModel",
            "_view_count": null,
            "_view_module": "@jupyter-widgets/output",
            "_view_module_version": "1.0.0",
            "_view_name": "OutputView",
            "layout": "IPY_MODEL_ad287ea47ff343338f4aa1b48d033ea4",
            "msg_id": "",
            "outputs": [
              {
                "output_type": "stream",
                "name": "stderr",
                "text": [
                  "<ipython-input-156-e2dc72fd9845>:10: RuntimeWarning: invalid value encountered in multiply\n",
                  "  return ((m/pi * Ri**2) * tau**(-1) * (x**(-1/4)) * exp(-(1+(x**2))/tau) * scipy.special.iv(0.25, 2 * x / tau))\n"
                ]
              },
              {
                "output_type": "display_data",
                "data": {
                  "text/plain": "<Figure size 640x480 with 1 Axes>",
                  "image/png": "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\n"
                },
                "metadata": {}
              }
            ]
          }
        },
        "20516dc16cb94033b8f4528303296347": {
          "model_module": "@jupyter-widgets/base",
          "model_name": "LayoutModel",
          "model_module_version": "1.2.0",
          "state": {
            "_model_module": "@jupyter-widgets/base",
            "_model_module_version": "1.2.0",
            "_model_name": "LayoutModel",
            "_view_count": null,
            "_view_module": "@jupyter-widgets/base",
            "_view_module_version": "1.2.0",
            "_view_name": "LayoutView",
            "align_content": null,
            "align_items": null,
            "align_self": null,
            "border": null,
            "bottom": null,
            "display": null,
            "flex": null,
            "flex_flow": null,
            "grid_area": null,
            "grid_auto_columns": null,
            "grid_auto_flow": null,
            "grid_auto_rows": null,
            "grid_column": null,
            "grid_gap": null,
            "grid_row": null,
            "grid_template_areas": null,
            "grid_template_columns": null,
            "grid_template_rows": null,
            "height": null,
            "justify_content": null,
            "justify_items": null,
            "left": null,
            "margin": null,
            "max_height": null,
            "max_width": null,
            "min_height": null,
            "min_width": null,
            "object_fit": null,
            "object_position": null,
            "order": null,
            "overflow": null,
            "overflow_x": null,
            "overflow_y": null,
            "padding": null,
            "right": null,
            "top": null,
            "visibility": null,
            "width": null
          }
        },
        "7bb3845040d84dd3ad2130938c06534a": {
          "model_module": "@jupyter-widgets/base",
          "model_name": "LayoutModel",
          "model_module_version": "1.2.0",
          "state": {
            "_model_module": "@jupyter-widgets/base",
            "_model_module_version": "1.2.0",
            "_model_name": "LayoutModel",
            "_view_count": null,
            "_view_module": "@jupyter-widgets/base",
            "_view_module_version": "1.2.0",
            "_view_name": "LayoutView",
            "align_content": null,
            "align_items": null,
            "align_self": null,
            "border": null,
            "bottom": null,
            "display": null,
            "flex": null,
            "flex_flow": null,
            "grid_area": null,
            "grid_auto_columns": null,
            "grid_auto_flow": null,
            "grid_auto_rows": null,
            "grid_column": null,
            "grid_gap": null,
            "grid_row": null,
            "grid_template_areas": null,
            "grid_template_columns": null,
            "grid_template_rows": null,
            "height": null,
            "justify_content": null,
            "justify_items": null,
            "left": null,
            "margin": null,
            "max_height": null,
            "max_width": null,
            "min_height": null,
            "min_width": null,
            "object_fit": null,
            "object_position": null,
            "order": null,
            "overflow": null,
            "overflow_x": null,
            "overflow_y": null,
            "padding": null,
            "right": null,
            "top": null,
            "visibility": null,
            "width": null
          }
        },
        "c7d96e40740a4e7fbecf9ff89301e830": {
          "model_module": "@jupyter-widgets/controls",
          "model_name": "SliderStyleModel",
          "model_module_version": "1.5.0",
          "state": {
            "_model_module": "@jupyter-widgets/controls",
            "_model_module_version": "1.5.0",
            "_model_name": "SliderStyleModel",
            "_view_count": null,
            "_view_module": "@jupyter-widgets/base",
            "_view_module_version": "1.2.0",
            "_view_name": "StyleView",
            "description_width": "",
            "handle_color": null
          }
        },
        "ad287ea47ff343338f4aa1b48d033ea4": {
          "model_module": "@jupyter-widgets/base",
          "model_name": "LayoutModel",
          "model_module_version": "1.2.0",
          "state": {
            "_model_module": "@jupyter-widgets/base",
            "_model_module_version": "1.2.0",
            "_model_name": "LayoutModel",
            "_view_count": null,
            "_view_module": "@jupyter-widgets/base",
            "_view_module_version": "1.2.0",
            "_view_name": "LayoutView",
            "align_content": null,
            "align_items": null,
            "align_self": null,
            "border": null,
            "bottom": null,
            "display": null,
            "flex": null,
            "flex_flow": null,
            "grid_area": null,
            "grid_auto_columns": null,
            "grid_auto_flow": null,
            "grid_auto_rows": null,
            "grid_column": null,
            "grid_gap": null,
            "grid_row": null,
            "grid_template_areas": null,
            "grid_template_columns": null,
            "grid_template_rows": null,
            "height": null,
            "justify_content": null,
            "justify_items": null,
            "left": null,
            "margin": null,
            "max_height": null,
            "max_width": null,
            "min_height": null,
            "min_width": null,
            "object_fit": null,
            "object_position": null,
            "order": null,
            "overflow": null,
            "overflow_x": null,
            "overflow_y": null,
            "padding": null,
            "right": null,
            "top": null,
            "visibility": null,
            "width": null
          }
        },
        "d95e961ae69c4efabb50b0328c444bca": {
          "model_module": "@jupyter-widgets/controls",
          "model_name": "VBoxModel",
          "model_module_version": "1.5.0",
          "state": {
            "_dom_classes": [
              "widget-interact"
            ],
            "_model_module": "@jupyter-widgets/controls",
            "_model_module_version": "1.5.0",
            "_model_name": "VBoxModel",
            "_view_count": null,
            "_view_module": "@jupyter-widgets/controls",
            "_view_module_version": "1.5.0",
            "_view_name": "VBoxView",
            "box_style": "",
            "children": [
              "IPY_MODEL_755d91b370b745539f6700947c237a2f",
              "IPY_MODEL_4cfdfea5f67949259e653a562abba9ae",
              "IPY_MODEL_f345b7be9e634b92bbe273723f3d7f92",
              "IPY_MODEL_ec490170bda9480ea9d8a785489a73fb",
              "IPY_MODEL_ae592ea3d4ad473fad1b345f3ad42ff5"
            ],
            "layout": "IPY_MODEL_d0d9d639dd5b444ea3a3bb87b00569b8"
          }
        },
        "755d91b370b745539f6700947c237a2f": {
          "model_module": "@jupyter-widgets/controls",
          "model_name": "FloatSliderModel",
          "model_module_version": "1.5.0",
          "state": {
            "_dom_classes": [],
            "_model_module": "@jupyter-widgets/controls",
            "_model_module_version": "1.5.0",
            "_model_name": "FloatSliderModel",
            "_view_count": null,
            "_view_module": "@jupyter-widgets/controls",
            "_view_module_version": "1.5.0",
            "_view_name": "FloatSliderView",
            "continuous_update": true,
            "description": "M",
            "description_tooltip": null,
            "disabled": false,
            "layout": "IPY_MODEL_a7f586b5c4e4451b92370fdd50aa6480",
            "max": 100000000,
            "min": 1000000,
            "orientation": "horizontal",
            "readout": true,
            "readout_format": ".2f",
            "step": 10000,
            "style": "IPY_MODEL_ff735697d7174d3d97b6656c7dafc1bf",
            "value": 100000000
          }
        },
        "4cfdfea5f67949259e653a562abba9ae": {
          "model_module": "@jupyter-widgets/controls",
          "model_name": "FloatSliderModel",
          "model_module_version": "1.5.0",
          "state": {
            "_dom_classes": [],
            "_model_module": "@jupyter-widgets/controls",
            "_model_module_version": "1.5.0",
            "_model_name": "FloatSliderModel",
            "_view_count": null,
            "_view_module": "@jupyter-widgets/controls",
            "_view_module_version": "1.5.0",
            "_view_name": "FloatSliderView",
            "continuous_update": true,
            "description": "pref_acc",
            "description_tooltip": null,
            "disabled": false,
            "layout": "IPY_MODEL_3249567c6df0489a813e806aa5e681a3",
            "max": 10,
            "min": 1,
            "orientation": "horizontal",
            "readout": true,
            "readout_format": ".2f",
            "step": 0.1,
            "style": "IPY_MODEL_5da0c6df3c794ec8994ac6b61df5b8a7",
            "value": 10
          }
        },
        "f345b7be9e634b92bbe273723f3d7f92": {
          "model_module": "@jupyter-widgets/controls",
          "model_name": "FloatSliderModel",
          "model_module_version": "1.5.0",
          "state": {
            "_dom_classes": [],
            "_model_module": "@jupyter-widgets/controls",
            "_model_module_version": "1.5.0",
            "_model_name": "FloatSliderModel",
            "_view_count": null,
            "_view_module": "@jupyter-widgets/controls",
            "_view_module_version": "1.5.0",
            "_view_name": "FloatSliderView",
            "continuous_update": true,
            "description": "R",
            "description_tooltip": null,
            "disabled": false,
            "layout": "IPY_MODEL_c9f048e45122477680513d2248f87d7c",
            "max": 100,
            "min": 1,
            "orientation": "horizontal",
            "readout": true,
            "readout_format": ".2f",
            "step": 0.1,
            "style": "IPY_MODEL_86f9a83576d3444c8ec05e2675a04df3",
            "value": 10
          }
        },
        "ec490170bda9480ea9d8a785489a73fb": {
          "model_module": "@jupyter-widgets/controls",
          "model_name": "FloatSliderModel",
          "model_module_version": "1.5.0",
          "state": {
            "_dom_classes": [],
            "_model_module": "@jupyter-widgets/controls",
            "_model_module_version": "1.5.0",
            "_model_name": "FloatSliderModel",
            "_view_count": null,
            "_view_module": "@jupyter-widgets/controls",
            "_view_module_version": "1.5.0",
            "_view_name": "FloatSliderView",
            "continuous_update": true,
            "description": "t",
            "description_tooltip": null,
            "disabled": false,
            "layout": "IPY_MODEL_c91974f161bf496c917f8dc07cd7fcda",
            "max": 10000,
            "min": 0.1,
            "orientation": "horizontal",
            "readout": true,
            "readout_format": ".2f",
            "step": 0.1,
            "style": "IPY_MODEL_8427137e32574312a41397079f9b03fb",
            "value": 10
          }
        },
        "ae592ea3d4ad473fad1b345f3ad42ff5": {
          "model_module": "@jupyter-widgets/output",
          "model_name": "OutputModel",
          "model_module_version": "1.0.0",
          "state": {
            "_dom_classes": [],
            "_model_module": "@jupyter-widgets/output",
            "_model_module_version": "1.0.0",
            "_model_name": "OutputModel",
            "_view_count": null,
            "_view_module": "@jupyter-widgets/output",
            "_view_module_version": "1.0.0",
            "_view_name": "OutputView",
            "layout": "IPY_MODEL_c182d20c950e4d6db69d1cc7c8b89073",
            "msg_id": "",
            "outputs": [
              {
                "output_type": "stream",
                "name": "stderr",
                "text": [
                  "<ipython-input-163-a14d0d42af66>:22: RuntimeWarning: overflow encountered in exp\n",
                  "  return 2 * h * nu**3 / c**2 / (exp(h * nu / (k * T)) - 1)\n"
                ]
              },
              {
                "output_type": "stream",
                "name": "stderr",
                "text": [
                  "WARNING:matplotlib.legend:No artists with labels found to put in legend.  Note that artists whose label start with an underscore are ignored when legend() is called with no argument.\n"
                ]
              },
              {
                "output_type": "display_data",
                "data": {
                  "text/plain": "<Figure size 640x480 with 1 Axes>",
                  "image/png": "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\n"
                },
                "metadata": {}
              }
            ]
          }
        },
        "d0d9d639dd5b444ea3a3bb87b00569b8": {
          "model_module": "@jupyter-widgets/base",
          "model_name": "LayoutModel",
          "model_module_version": "1.2.0",
          "state": {
            "_model_module": "@jupyter-widgets/base",
            "_model_module_version": "1.2.0",
            "_model_name": "LayoutModel",
            "_view_count": null,
            "_view_module": "@jupyter-widgets/base",
            "_view_module_version": "1.2.0",
            "_view_name": "LayoutView",
            "align_content": null,
            "align_items": null,
            "align_self": null,
            "border": null,
            "bottom": null,
            "display": null,
            "flex": null,
            "flex_flow": null,
            "grid_area": null,
            "grid_auto_columns": null,
            "grid_auto_flow": null,
            "grid_auto_rows": null,
            "grid_column": null,
            "grid_gap": null,
            "grid_row": null,
            "grid_template_areas": null,
            "grid_template_columns": null,
            "grid_template_rows": null,
            "height": null,
            "justify_content": null,
            "justify_items": null,
            "left": null,
            "margin": null,
            "max_height": null,
            "max_width": null,
            "min_height": null,
            "min_width": null,
            "object_fit": null,
            "object_position": null,
            "order": null,
            "overflow": null,
            "overflow_x": null,
            "overflow_y": null,
            "padding": null,
            "right": null,
            "top": null,
            "visibility": null,
            "width": null
          }
        },
        "a7f586b5c4e4451b92370fdd50aa6480": {
          "model_module": "@jupyter-widgets/base",
          "model_name": "LayoutModel",
          "model_module_version": "1.2.0",
          "state": {
            "_model_module": "@jupyter-widgets/base",
            "_model_module_version": "1.2.0",
            "_model_name": "LayoutModel",
            "_view_count": null,
            "_view_module": "@jupyter-widgets/base",
            "_view_module_version": "1.2.0",
            "_view_name": "LayoutView",
            "align_content": null,
            "align_items": null,
            "align_self": null,
            "border": null,
            "bottom": null,
            "display": null,
            "flex": null,
            "flex_flow": null,
            "grid_area": null,
            "grid_auto_columns": null,
            "grid_auto_flow": null,
            "grid_auto_rows": null,
            "grid_column": null,
            "grid_gap": null,
            "grid_row": null,
            "grid_template_areas": null,
            "grid_template_columns": null,
            "grid_template_rows": null,
            "height": null,
            "justify_content": null,
            "justify_items": null,
            "left": null,
            "margin": null,
            "max_height": null,
            "max_width": null,
            "min_height": null,
            "min_width": null,
            "object_fit": null,
            "object_position": null,
            "order": null,
            "overflow": null,
            "overflow_x": null,
            "overflow_y": null,
            "padding": null,
            "right": null,
            "top": null,
            "visibility": null,
            "width": null
          }
        },
        "ff735697d7174d3d97b6656c7dafc1bf": {
          "model_module": "@jupyter-widgets/controls",
          "model_name": "SliderStyleModel",
          "model_module_version": "1.5.0",
          "state": {
            "_model_module": "@jupyter-widgets/controls",
            "_model_module_version": "1.5.0",
            "_model_name": "SliderStyleModel",
            "_view_count": null,
            "_view_module": "@jupyter-widgets/base",
            "_view_module_version": "1.2.0",
            "_view_name": "StyleView",
            "description_width": "",
            "handle_color": null
          }
        },
        "3249567c6df0489a813e806aa5e681a3": {
          "model_module": "@jupyter-widgets/base",
          "model_name": "LayoutModel",
          "model_module_version": "1.2.0",
          "state": {
            "_model_module": "@jupyter-widgets/base",
            "_model_module_version": "1.2.0",
            "_model_name": "LayoutModel",
            "_view_count": null,
            "_view_module": "@jupyter-widgets/base",
            "_view_module_version": "1.2.0",
            "_view_name": "LayoutView",
            "align_content": null,
            "align_items": null,
            "align_self": null,
            "border": null,
            "bottom": null,
            "display": null,
            "flex": null,
            "flex_flow": null,
            "grid_area": null,
            "grid_auto_columns": null,
            "grid_auto_flow": null,
            "grid_auto_rows": null,
            "grid_column": null,
            "grid_gap": null,
            "grid_row": null,
            "grid_template_areas": null,
            "grid_template_columns": null,
            "grid_template_rows": null,
            "height": null,
            "justify_content": null,
            "justify_items": null,
            "left": null,
            "margin": null,
            "max_height": null,
            "max_width": null,
            "min_height": null,
            "min_width": null,
            "object_fit": null,
            "object_position": null,
            "order": null,
            "overflow": null,
            "overflow_x": null,
            "overflow_y": null,
            "padding": null,
            "right": null,
            "top": null,
            "visibility": null,
            "width": null
          }
        },
        "5da0c6df3c794ec8994ac6b61df5b8a7": {
          "model_module": "@jupyter-widgets/controls",
          "model_name": "SliderStyleModel",
          "model_module_version": "1.5.0",
          "state": {
            "_model_module": "@jupyter-widgets/controls",
            "_model_module_version": "1.5.0",
            "_model_name": "SliderStyleModel",
            "_view_count": null,
            "_view_module": "@jupyter-widgets/base",
            "_view_module_version": "1.2.0",
            "_view_name": "StyleView",
            "description_width": "",
            "handle_color": null
          }
        },
        "c9f048e45122477680513d2248f87d7c": {
          "model_module": "@jupyter-widgets/base",
          "model_name": "LayoutModel",
          "model_module_version": "1.2.0",
          "state": {
            "_model_module": "@jupyter-widgets/base",
            "_model_module_version": "1.2.0",
            "_model_name": "LayoutModel",
            "_view_count": null,
            "_view_module": "@jupyter-widgets/base",
            "_view_module_version": "1.2.0",
            "_view_name": "LayoutView",
            "align_content": null,
            "align_items": null,
            "align_self": null,
            "border": null,
            "bottom": null,
            "display": null,
            "flex": null,
            "flex_flow": null,
            "grid_area": null,
            "grid_auto_columns": null,
            "grid_auto_flow": null,
            "grid_auto_rows": null,
            "grid_column": null,
            "grid_gap": null,
            "grid_row": null,
            "grid_template_areas": null,
            "grid_template_columns": null,
            "grid_template_rows": null,
            "height": null,
            "justify_content": null,
            "justify_items": null,
            "left": null,
            "margin": null,
            "max_height": null,
            "max_width": null,
            "min_height": null,
            "min_width": null,
            "object_fit": null,
            "object_position": null,
            "order": null,
            "overflow": null,
            "overflow_x": null,
            "overflow_y": null,
            "padding": null,
            "right": null,
            "top": null,
            "visibility": null,
            "width": null
          }
        },
        "86f9a83576d3444c8ec05e2675a04df3": {
          "model_module": "@jupyter-widgets/controls",
          "model_name": "SliderStyleModel",
          "model_module_version": "1.5.0",
          "state": {
            "_model_module": "@jupyter-widgets/controls",
            "_model_module_version": "1.5.0",
            "_model_name": "SliderStyleModel",
            "_view_count": null,
            "_view_module": "@jupyter-widgets/base",
            "_view_module_version": "1.2.0",
            "_view_name": "StyleView",
            "description_width": "",
            "handle_color": null
          }
        },
        "c91974f161bf496c917f8dc07cd7fcda": {
          "model_module": "@jupyter-widgets/base",
          "model_name": "LayoutModel",
          "model_module_version": "1.2.0",
          "state": {
            "_model_module": "@jupyter-widgets/base",
            "_model_module_version": "1.2.0",
            "_model_name": "LayoutModel",
            "_view_count": null,
            "_view_module": "@jupyter-widgets/base",
            "_view_module_version": "1.2.0",
            "_view_name": "LayoutView",
            "align_content": null,
            "align_items": null,
            "align_self": null,
            "border": null,
            "bottom": null,
            "display": null,
            "flex": null,
            "flex_flow": null,
            "grid_area": null,
            "grid_auto_columns": null,
            "grid_auto_flow": null,
            "grid_auto_rows": null,
            "grid_column": null,
            "grid_gap": null,
            "grid_row": null,
            "grid_template_areas": null,
            "grid_template_columns": null,
            "grid_template_rows": null,
            "height": null,
            "justify_content": null,
            "justify_items": null,
            "left": null,
            "margin": null,
            "max_height": null,
            "max_width": null,
            "min_height": null,
            "min_width": null,
            "object_fit": null,
            "object_position": null,
            "order": null,
            "overflow": null,
            "overflow_x": null,
            "overflow_y": null,
            "padding": null,
            "right": null,
            "top": null,
            "visibility": null,
            "width": null
          }
        },
        "8427137e32574312a41397079f9b03fb": {
          "model_module": "@jupyter-widgets/controls",
          "model_name": "SliderStyleModel",
          "model_module_version": "1.5.0",
          "state": {
            "_model_module": "@jupyter-widgets/controls",
            "_model_module_version": "1.5.0",
            "_model_name": "SliderStyleModel",
            "_view_count": null,
            "_view_module": "@jupyter-widgets/base",
            "_view_module_version": "1.2.0",
            "_view_name": "StyleView",
            "description_width": "",
            "handle_color": null
          }
        },
        "c182d20c950e4d6db69d1cc7c8b89073": {
          "model_module": "@jupyter-widgets/base",
          "model_name": "LayoutModel",
          "model_module_version": "1.2.0",
          "state": {
            "_model_module": "@jupyter-widgets/base",
            "_model_module_version": "1.2.0",
            "_model_name": "LayoutModel",
            "_view_count": null,
            "_view_module": "@jupyter-widgets/base",
            "_view_module_version": "1.2.0",
            "_view_name": "LayoutView",
            "align_content": null,
            "align_items": null,
            "align_self": null,
            "border": null,
            "bottom": null,
            "display": null,
            "flex": null,
            "flex_flow": null,
            "grid_area": null,
            "grid_auto_columns": null,
            "grid_auto_flow": null,
            "grid_auto_rows": null,
            "grid_column": null,
            "grid_gap": null,
            "grid_row": null,
            "grid_template_areas": null,
            "grid_template_columns": null,
            "grid_template_rows": null,
            "height": null,
            "justify_content": null,
            "justify_items": null,
            "left": null,
            "margin": null,
            "max_height": null,
            "max_width": null,
            "min_height": null,
            "min_width": null,
            "object_fit": null,
            "object_position": null,
            "order": null,
            "overflow": null,
            "overflow_x": null,
            "overflow_y": null,
            "padding": null,
            "right": null,
            "top": null,
            "visibility": null,
            "width": null
          }
        }
      }
    }
  },
  "cells": [
    {
      "cell_type": "markdown",
      "source": [
        "Introduction: Here I will be constructing a jupyter notebook that will compute the spectral evolution of a spreading\n",
        "annulus of gaseous mass orbiting a central mass, representative of a black hole in this case. The spreading annulus is representative\n",
        "of a one dimensional accretion disk model, and my motivation behind this idea is to\n",
        "understand how accretion disks change over time, both dynamically and in terms of the\n",
        "radiation they emit. The equations are developed and shown from Pringle 1981."
      ],
      "metadata": {
        "id": "ZjJIXwCEN5sI"
      }
    },
    {
      "cell_type": "markdown",
      "source": [
        "This cell will import the necessary libraries such as numpy, scipy (with special functions), and matplotlib, as well as some tools to help visualize how my plots change with certain varied parameters."
      ],
      "metadata": {
        "id": "5MEzJvaCO0Bu"
      }
    },
    {
      "cell_type": "code",
      "source": [
        "import numpy as np\n",
        "from numpy import *\n",
        "import scipy\n",
        "from matplotlib import pyplot as plt\n",
        "from scipy import special\n",
        "from ipywidgets import interact, interactive\n",
        "import ipywidgets as widgets"
      ],
      "metadata": {
        "id": "uhIHr4-BY0TA"
      },
      "execution_count": 149,
      "outputs": []
    },
    {
      "cell_type": "markdown",
      "source": [
        "I now define variables for the physical constants I will be using in cgs units, such as the universal gravitaional constant, the speed of light, the Stefan Boltzman constant, Planck's constant,  and the salpeter time (defined as the timescale for black hole growth assuming accretion does not exceed the Eddington limit)."
      ],
      "metadata": {
        "id": "XjFv03wVGKYg"
      }
    },
    {
      "cell_type": "code",
      "source": [
        "GM = 1.0\n",
        "Rstar = 1.0\n",
        "G = 6.67e-8  # cm^3 g^-1 s^-2\n",
        "Msun = 2e33  # g\n",
        "sb = 5.67e-5  # g s^-3 K^-4: Stefan Boltzman Constant in cgs\n",
        "c = 3e10  # cm s^-1\n",
        "h = 6.626e-27  # ergs s: Planck's Constant in cgs\n",
        "k = 1.38e-16  # ergs K^-1\n",
        "year = 3.15e7 # s\n",
        "tsal = 5e7 * year # s: salpeter time\n",
        "erg = 6.242e11  # eV"
      ],
      "metadata": {
        "id": "3FnQ7OCoCZYa"
      },
      "execution_count": 150,
      "outputs": []
    },
    {
      "cell_type": "markdown",
      "source": [
        "The following few cells will define relatively simple functions of radius to set up the physics of the spreading annulus of gaseous matter in a keplarian orbit."
      ],
      "metadata": {
        "id": "GQYhHPcKP6Qz"
      }
    },
    {
      "cell_type": "markdown",
      "source": [
        "For now, I consider a gaseous disk with a constant kinematic viscosity."
      ],
      "metadata": {
        "id": "dbWJedftXQEY"
      }
    },
    {
      "cell_type": "code",
      "source": [
        "def kinematic_viscosity(R):\n",
        "    return 1e-1\n",
        "\n",
        "\n",
        "def kinematic_viscosity_derivative(R):\n",
        "    return 0.0\n"
      ],
      "metadata": {
        "id": "yvo-yechJCr2"
      },
      "execution_count": 151,
      "outputs": []
    },
    {
      "cell_type": "markdown",
      "source": [
        "Because of the nature of the disk's orbit, the circular velocity of the disk is keplarian, and given by:"
      ],
      "metadata": {
        "id": "P84LtknXZs9h"
      }
    },
    {
      "cell_type": "code",
      "source": [
        "def keplerian_omega_log_derivative(R):\n",
        "    \"\"\"\n",
        "    Return the shear profile d(Omega) / d(log R)\n",
        "    \"\"\"\n",
        "    return -1.5 * sqrt(GM / R**3)\n",
        "\n",
        "\n",
        "def keplerian_omega(R):\n",
        "    return sqrt(GM / R**3)\n"
      ],
      "metadata": {
        "id": "giYZLD7bJIiM"
      },
      "execution_count": 152,
      "outputs": []
    },
    {
      "cell_type": "markdown",
      "source": [
        "The specific angular momentum of the disk is:"
      ],
      "metadata": {
        "id": "oTmq20cOaqYi"
      }
    },
    {
      "cell_type": "code",
      "source": [
        "def specific_angular_momentum(R):\n",
        "    return sqrt(GM * R)\n",
        "\n",
        "\n",
        "def specific_angular_momentum_derivative(R):\n",
        "    return 0.5 * sqrt(GM / R)\n"
      ],
      "metadata": {
        "id": "YN622saWJQxH"
      },
      "execution_count": 153,
      "outputs": []
    },
    {
      "cell_type": "markdown",
      "source": [
        "The surface density at one single radius in the disk is:"
      ],
      "metadata": {
        "id": "JINtwZgwa3a6"
      }
    },
    {
      "cell_type": "code",
      "source": [
        "def sigma(M, R):\n",
        "    \"\"\"\n",
        "    Return the surface density at a paticular radius\n",
        "    \"\"\"\n",
        "    return M / (pi * diff(R**2))"
      ],
      "metadata": {
        "id": "Gm3Gi7ZgJSZU"
      },
      "execution_count": 154,
      "outputs": []
    },
    {
      "cell_type": "markdown",
      "source": [
        "And the radial velocity of the disk, Vr, can be obtained with the surface density, kinematic viscosity, and the derivatives of the circular velocity and the the angular momentum."
      ],
      "metadata": {
        "id": "6dFsczP5bJdH"
      }
    },
    {
      "cell_type": "code",
      "source": [
        "def radial_velocity(M, R):\n",
        "    \"\"\"\n",
        "    Return the radial gas velocity at the internal zone interfaces\n",
        "\n",
        "    v = d/dR(R g) / (sigma R l')\n",
        "    \"\"\"\n",
        "    Rc = 0.5 * (R[1:] + R[:-1])\n",
        "    s = sigma(M, R)\n",
        "    n = kinematic_viscosity(Rc)\n",
        "    A = keplerian_omega_log_derivative(Rc)\n",
        "    g = Rc * s * n * A\n",
        "    m = specific_angular_momentum_derivative(R[1:-1])\n",
        "    return diff(Rc * g) / diff(Rc) / (0.5 * (s[1:] + s[:-1]) * m * R[1:-1])"
      ],
      "metadata": {
        "id": "G3h874O6Naq7"
      },
      "execution_count": 155,
      "outputs": []
    },
    {
      "cell_type": "markdown",
      "source": [
        "From these relatively simple equations, the analytic solution for the surface density over the whole disk as a function of mass, radius, and time is given by:"
      ],
      "metadata": {
        "id": "Vt81rAqfbkUB"
      }
    },
    {
      "cell_type": "code",
      "source": [
        "def surface_density(M, R, t):\n",
        "    \"\"\"\n",
        "    Return the analytic solution for the surface density\n",
        "    \"\"\"\n",
        "    m = 1.0\n",
        "    Ri = 4.0\n",
        "    n = kinematic_viscosity(R)\n",
        "    tau = 12 * n * (Ri**-2) * t\n",
        "    x = (R/Ri)\n",
        "    return ((m/pi * Ri**2) * tau**(-1) * (x**(-1/4)) * exp(-(1+(x**2))/tau) * scipy.special.iv(0.25, 2 * x / tau))"
      ],
      "metadata": {
        "id": "2qm2yXkANpQ6"
      },
      "execution_count": 156,
      "outputs": []
    },
    {
      "cell_type": "markdown",
      "source": [
        "Using a fluid dynamics approach, the mass flux is calculated by:"
      ],
      "metadata": {
        "id": "dDiAQSIzb56U"
      }
    },
    {
      "cell_type": "code",
      "source": [
        "def godunov_fluxes(M, R, ret_torque=False):\n",
        "    Mdot = 1.0\n",
        "\n",
        "    R0 = R[:-1]\n",
        "    R1 = R[+1:]\n",
        "\n",
        "    Fhat = zeros_like(R)\n",
        "    s = sigma(M, R)\n",
        "    v_hat = radial_velocity(M, R)\n",
        "    s_hat = (v_hat > 0.0) * s[:-1] + (v_hat < 0.0) * s[1:]\n",
        "    Fhat[1:-1] = 2 * pi * R[1:-1] * s_hat * v_hat\n",
        "\n",
        "    # Boundary conditions on the mass flux:\n",
        "    Fhat[+0] = -Mdot\n",
        "    Fhat[-1] = -Mdot\n",
        "\n",
        "    if ret_torque:\n",
        "        A = keplerian_omega_log_derivative(R)\n",
        "        nu = kinematic_viscosity(R)\n",
        "        Ghat = zeros_like(R)\n",
        "        Ghat[1:-1] = -2 * pi * s_hat * (nu * A * R**2)[1:-1]\n",
        "        return Fhat, Fhat * specific_angular_momentum(R), Ghat\n",
        "    else:\n",
        "        return Fhat\n",
        "\n",
        "\n",
        "def time_derivative(M, R):\n",
        "    Fhat = godunov_fluxes(M, R)\n",
        "    return -diff(Fhat)"
      ],
      "metadata": {
        "id": "n9ATThreNr4x"
      },
      "execution_count": 157,
      "outputs": []
    },
    {
      "cell_type": "markdown",
      "source": [
        "Finally, this next cell generates a visual depiction of the surface density of an accretion disk as a function of radius. This model begins as a \"ring\" of gaseous matter spreading into a disk. In accretion disks, most of the mass moves inward near the initial radius as time passes, losing energy and angular momentum. A tail of matter moves out to larger radii in an effort to \"take up\" the angular momentum. This is seen below, as I plot the surfce density as function of radius, with time varied. The effect is not all too dramatic, as in my example it occurs rather quickly, but it is noticeable here.\n",
        "\n",
        "![image.png](data:image/png;base64,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)"
      ],
      "metadata": {
        "id": "aSMzpuSzdD_F"
      }
    },
    {
      "cell_type": "code",
      "source": [
        "def set_plot(M, R, ax=None):\n",
        "    from matplotlib import pyplot as plt\n",
        "\n",
        "    if ax is None:\n",
        "        fig = plt.figure()\n",
        "        ax = fig.add_subplot(111)\n",
        "\n",
        "    R0 = R[:-1]\n",
        "    R1 = R[+1:]\n",
        "    Rc = 0.5 * (R0 + R1)\n",
        "    mdot, Jdot_adv, Jdot_vis = godunov_fluxes(M, R, ret_torque=True)\n",
        "    v = radial_velocity(M, R)\n",
        "    ax.set_xlabel(r\"$R$\")\n",
        "    ax.legend()\n",
        "    return ax\n",
        "\n",
        "\n",
        "def plot_disk_surface_density(t:float):\n",
        "    N = 1000\n",
        "    R = linspace(2.0 * Rstar, 100.0 * Rstar, N + 1)\n",
        "    dR = diff(R)\n",
        "    R0 = R[:-1]\n",
        "    R1 = R[+1:]\n",
        "    Rc = 0.5 * (R0 + R1)\n",
        "    dt = 0.1 * (dR**2 / kinematic_viscosity(R)).min()\n",
        "\n",
        "    tfinal = 50.0\n",
        "    s = 1.0\n",
        "    M = s * pi * (R1**2 - R0**2)\n",
        "    n = 0\n",
        "\n",
        "    fig = plt.figure()\n",
        "    ax = fig.add_subplot(111)\n",
        "\n",
        "    if set_plot:\n",
        "        set_plot(M, R, ax=ax)\n",
        "\n",
        "    s1 = surface_density(M, R, t)\n",
        "    ax.plot(R, s1, \"-o\", mfc=\"none\", label=r\"$\\Sigma$ Numerical\")\n",
        "\n",
        "    while t < tfinal:\n",
        "        K = time_derivative(M, R)\n",
        "        M += K * dt\n",
        "        t += dt\n",
        "        n += 1\n",
        "\n",
        "    if set_plot:\n",
        "        set_plot(M, R, ax=ax)\n",
        "        plt.title('Disk Surface Density')\n",
        "        plt.xlim([0, 20])\n",
        "        plt.ylim([0, 5.0])\n",
        "        plt.show()"
      ],
      "metadata": {
        "id": "weTemHMxY01e"
      },
      "execution_count": 158,
      "outputs": []
    },
    {
      "cell_type": "code",
      "source": [
        "interact(plot_disk_surface_density,\n",
        "  t = widgets.FloatSlider(value=10.0, min=0.1, max = 50, step=0.1, descriptions='time', disabled=False))"
      ],
      "metadata": {
        "colab": {
          "base_uri": "https://localhost:8080/",
          "height": 556,
          "referenced_widgets": [
            "b02a8d7ba29b496fa1f1464f08b0b62b",
            "93e7b5ed220c4017b5d14e78b61dc8cf",
            "7305559223c9466fb3799d57701c0326",
            "b3e1e9033d6242d1bf8023cbd39eb3e0",
            "3f841704d6764093b54ea2121eb7ae61",
            "df17964fe5764c8fa555d25f3080ccb7",
            "bc74f8f3db1e407997f0c278b4bfaaf4"
          ]
        },
        "id": "p7XaG9vMw1eX",
        "outputId": "441986a2-0b40-4b35-fee3-6ffb69132c61"
      },
      "execution_count": 159,
      "outputs": [
        {
          "output_type": "display_data",
          "data": {
            "text/plain": [
              "interactive(children=(FloatSlider(value=10.0, description='t', max=50.0, min=0.1), Output()), _dom_classes=('w…"
            ],
            "application/vnd.jupyter.widget-view+json": {
              "version_major": 2,
              "version_minor": 0,
              "model_id": "b02a8d7ba29b496fa1f1464f08b0b62b"
            }
          },
          "metadata": {}
        },
        {
          "output_type": "execute_result",
          "data": {
            "text/plain": [
              "<function __main__.plot_disk_surface_density(t: float)>"
            ]
          },
          "metadata": {},
          "execution_count": 159
        }
      ]
    },
    {
      "cell_type": "markdown",
      "source": [
        "Directly from this, the luminosity of the steady disk will be calculated by integrating the dissipation rate over the disk from the center to the outer radius. Below, I plot luminosity from the disk alone vs. radius on a logarithmic scale. I also added a widget to vary the time, because the luminosity from the disk depends on the surface density of the disk, as seen in the last plot. However, because of how quickly the ring spreads into a disk, I interestingly found that the spreading of the ring does not impact the luminosity of the disk much at all.\n",
        "\n",
        "In addition, this luminosity is of the disk itself, not from accretion on the boundary layer. The matter outside the boundary layer retains half of the potential energy that has been lost as kinetic energy! So what we see here from the disk alone is just a fraction of the accretion luminosity (Pringle 1981). Equation (3.11):\n",
        "\n",
        "\n",
        "![image.png](data:image/png;base64,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)"
      ],
      "metadata": {
        "id": "lDwxC9GWTeed"
      }
    },
    {
      "cell_type": "code",
      "source": [
        "def plot_disk_luminosity(t: float):\n",
        "    N = 1000\n",
        "    R = np.linspace(2.0 * Rstar, 100.0 * Rstar, N + 1)\n",
        "    dR = diff(R)\n",
        "    Rl = R[:-1]\n",
        "    Rf = R[+1:]\n",
        "    Rc = 0.5 * (Rl + Rf)\n",
        "    dt = 0.1 * (dR**2 / kinematic_viscosity(R)).min()\n",
        "    s = 1.0\n",
        "    M = s * pi * (Rf**2 - Rl**2)\n",
        "    s1 = surface_density(M, R, t)\n",
        "\n",
        "    #Vr = radial_velocity(M, R)\n",
        "    # but for R >> Rstar,\n",
        "    Vr = -3 * kinematic_viscosity(R) / (2 * R)\n",
        "    Mdot = 2 * np.pi * R * s1 * -Vr\n",
        "\n",
        "    L = 0.5 * G * M * Mdot[+1:] / Rstar\n",
        "    nu_v = logspace(12, 19, 1000)\n",
        "\n",
        "    fig = plt.figure()\n",
        "    ax = fig.add_subplot(111)\n",
        "\n",
        "    ax.plot(Rc, nu_v*L, \"-o\", mfc=\"none\")\n",
        "    #ax.set_xscale('log')\n",
        "    ax.set_yscale('log')\n",
        "    ax.set_xlabel(r'$R$')\n",
        "    ax.set_ylabel(r'$\\nu L_{\\nu} \\rm{[erg / s]}$')\n",
        "    plt.title('Total Disk Luminosity')\n",
        "    plt.show()"
      ],
      "metadata": {
        "id": "fZbajoNYY3u1"
      },
      "execution_count": 195,
      "outputs": []
    },
    {
      "cell_type": "markdown",
      "source": [
        "Expectedly, the luminosity peaks at smaller radii at earlier times. It spreads out over all radii over time. The luminosity of the disk itself, for the current given parameters, is not substantial."
      ],
      "metadata": {
        "id": "6zDV59KdnlsY"
      }
    },
    {
      "cell_type": "code",
      "source": [
        "interact(plot_disk_luminosity,\n",
        "  t = widgets.FloatSlider(value=10.0, min=0.1, max = 50, step=0.1, descriptions='time', disabled=False))"
      ],
      "metadata": {
        "colab": {
          "base_uri": "https://localhost:8080/",
          "height": 556,
          "referenced_widgets": [
            "e6b7cb8eae7744cd93d50eca183fddbd",
            "64348afb44e342b3a6c91ce388cc21e7",
            "9b074564a35445e99b36899b05be8cb9",
            "20516dc16cb94033b8f4528303296347",
            "7bb3845040d84dd3ad2130938c06534a",
            "c7d96e40740a4e7fbecf9ff89301e830",
            "ad287ea47ff343338f4aa1b48d033ea4"
          ]
        },
        "id": "dxFyOGszpP6j",
        "outputId": "953d90d4-7833-4842-89c3-89358621e236"
      },
      "execution_count": 196,
      "outputs": [
        {
          "output_type": "display_data",
          "data": {
            "text/plain": [
              "interactive(children=(FloatSlider(value=10.0, description='t', max=50.0, min=0.1), Output()), _dom_classes=('w…"
            ],
            "application/vnd.jupyter.widget-view+json": {
              "version_major": 2,
              "version_minor": 0,
              "model_id": "e6b7cb8eae7744cd93d50eca183fddbd"
            }
          },
          "metadata": {}
        },
        {
          "output_type": "execute_result",
          "data": {
            "text/plain": [
              "<function __main__.plot_disk_luminosity(t: float)>"
            ]
          },
          "metadata": {},
          "execution_count": 196
        }
      ]
    },
    {
      "cell_type": "markdown",
      "source": [
        "The next cells begin calculations for the thermal spectrum of the disk, assuming it is an isothermal blackbody (optically thick). A disk temperature profile is derived from these conditions, and from this the spectrum emitted will be calcualted and plotted here."
      ],
      "metadata": {
        "id": "1OqpKA7PWRHC"
      }
    },
    {
      "cell_type": "markdown",
      "source": [
        "Below are functions defining the accretion rate of the disk mass (using the Eddington accretion rate), as well as the radius of the inner most stable orbit around the central black hole (Schwarzschild radius):"
      ],
      "metadata": {
        "id": "oTT92CwIjaET"
      }
    },
    {
      "cell_type": "code",
      "source": [
        "def Mdot_acc(M, edd_frac):\n",
        "  return edd_frac * M /tsal\n",
        "\n",
        "def Risco(M):\n",
        "  return 12 * G * M /c**2"
      ],
      "metadata": {
        "id": "66QiKYVAE2km"
      },
      "execution_count": 162,
      "outputs": []
    },
    {
      "cell_type": "markdown",
      "source": [
        "From here, temperature profiles for the disk and the inner boundary edge of the disk are calculated, as well as the planck spectrum function because the accretion disk is modelled as a blackbody."
      ],
      "metadata": {
        "id": "KFkJQ7sZj9Ia"
      }
    },
    {
      "cell_type": "code",
      "source": [
        "def disk_temperature(R: float, R0: float, M: float, Mdot: float):\n",
        "    \"\"\"\n",
        "    The surface temperature of a steady-state disk with inner radius R0\n",
        "    This is Eqn. 3.23 of Pringle (1981).\n",
        "    \"\"\"\n",
        "    return Tstar(R0, M, Mdot) * ((R0 / R) ** 3 * (1 - sqrt(R0 / R))) ** 0.25\n",
        "\n",
        "\n",
        "def Tstar(R0: float, M: float, Mdot: float):\n",
        "    \"\"\"\n",
        "    The temperature of the inner edge of a steady-state accretion disk\n",
        "    This equation appears below Eqn. 3.23 of Pringle (1981).\n",
        "    \"\"\"\n",
        "    return (3 * G * M * Mdot / (8 * np.pi * R0**3 * sb)) ** 0.25\n",
        "\n",
        "\n",
        "def planck_spectrum(T, nu):\n",
        "    \"\"\"\n",
        "    The specific intensity of a blackbody of temperature T, and frequency nu.\n",
        "    \"\"\"\n",
        "    return 2 * h * nu**3 / c**2 / (exp(h * nu / (k * T)) - 1)\n"
      ],
      "metadata": {
        "id": "sBgEGWv6TdyG"
      },
      "execution_count": 163,
      "outputs": []
    },
    {
      "cell_type": "markdown",
      "source": [
        "Now, the spectrum of the single disk is calculated using the above functions, in short, it is the planck spectrum of the disk temperature. The calculation is performed using a first order integral over the radius of the disk (inner radius to outer radius) to produce the multi-temperature blackbody spectrum. Equation (3.25):\n",
        "\n",
        " ![image.png](data:image/png;base64,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)"
      ],
      "metadata": {
        "id": "cJ3D1VhMlYBP"
      }
    },
    {
      "cell_type": "code",
      "source": [
        "def disk_spectrum(M: float, Mdot: float, R0: float, R, delta: float = 0.1):\n",
        "    \"\"\"\n",
        "    Produce a disk spectrum\n",
        "    Uses a 1st-order integral over disk radius to produce the multi-temperature\n",
        "    BB spectrum of a disk, which extends from R0 to Rout.\n",
        "    Note: the frequency range is currently hard-coded. This should be fixed so\n",
        "    that it has a sensible default range of frequencies.\n",
        "    Note: multiply the result by pi to obtain the isotropic specific power\n",
        "    Inu = integral of 2 * pi * R * dR * Bnu(T(R), nu) from R0 -> Rout\n",
        "    \"\"\"\n",
        "\n",
        "    nu_v = logspace(12, 19, 999)\n",
        "    nu_c = 0.5 * (nu_v[1:] + nu_v[:-1])\n",
        "    R0 = Risco(M)\n",
        "    Rout = 1000\n",
        "    Inu = zeros_like(nu_c)\n",
        "\n",
        "    if Rout < R0:\n",
        "      print('Warning: Rout < R1, the spectrum is zero')\n",
        "\n",
        "    while R < Rout:\n",
        "      dR = R * delta\n",
        "      Inu += 2 * pi * R * dR * planck_spectrum(disk_temperature(R, R0, M, Mdot), nu_c)\n",
        "      R *= 1.0 + delta\n",
        "    return nu_v, Inu\n",
        "\n",
        "def plot_disk_spectrum(M, pref_acc, R, t):\n",
        "    delta=0.001\n",
        "    edd_frac = 1 / (1 + pref_acc)\n",
        "    Mb = M * Msun # Mass of the central black hole in grams\n",
        "    Mdot = Mdot_acc(Mb, 1.0) # Accretion rate of the black hole in g/s\n",
        "\n",
        "    nu_v, Inu = disk_spectrum(M, Mdot, Risco(M), R, delta=0.001)\n",
        "    nu_c = 0.5 * (nu_v[1:] + nu_v[:-1])\n",
        "    Snu = pi * Inu * nu_c\n",
        "\n",
        "    fig = plt.figure()\n",
        "    ax = fig.add_subplot(111)\n",
        "\n",
        "    ax.plot(h * nu_c * erg, Snu, linewidth=1)\n",
        "    ax.set_xscale('log')\n",
        "    ax.set_yscale('log')\n",
        "    ax.set_xlabel(r'$h \\nu \\rm{[eV]}$')\n",
        "    ax.set_ylabel(r'$S_{\\nu} \\rm{[erg / s]}$')\n",
        "    ax.legend(loc='lower left')\n",
        "    fig.tight_layout(pad=0.1)\n",
        "    plt.show()"
      ],
      "metadata": {
        "id": "u-IB8grMY4h6"
      },
      "execution_count": 164,
      "outputs": []
    },
    {
      "cell_type": "markdown",
      "source": [
        "Below, widgets allow a viewer to adjust the mass of the disk, the accretion rate, the outer radius, and the time. Notice that varying the time truly does not change too much, becaus I found that the actual spread of the gaseous annulus is quite fast and does not have a significant effect on the overall spectrum emitted. So for this reason, I decided not to make a movie of the disk spectrum over time.\n",
        "\n",
        "Notice that varying the mass of the disk has the most influence on the spectrum."
      ],
      "metadata": {
        "id": "esaVZE9pmdm0"
      }
    },
    {
      "cell_type": "code",
      "source": [
        "interact(plot_disk_spectrum,\n",
        "  M = widgets.FloatSlider(value=1e7, min=1e6, max = 1e8, step=1e4, descriptions='Disk Mass [Msun]:', disabled=False),\n",
        "  pref_acc = widgets.FloatSlider(value=10, min=1, max = 10, step=0.1, descriptions='Preferrential Accretion:', disabled=False),\n",
        "  R = widgets.FloatSlider(value=10, min=1, max = 100, step=0.1, descriptions='Disk Thickness:'),\n",
        "  t = widgets.FloatSlider(value=10.0, min=0.1, max = 10000, step=0.1, descriptions='time', disabled=False))"
      ],
      "metadata": {
        "colab": {
          "base_uri": "https://localhost:8080/",
          "height": 729,
          "referenced_widgets": [
            "d95e961ae69c4efabb50b0328c444bca",
            "755d91b370b745539f6700947c237a2f",
            "4cfdfea5f67949259e653a562abba9ae",
            "f345b7be9e634b92bbe273723f3d7f92",
            "ec490170bda9480ea9d8a785489a73fb",
            "ae592ea3d4ad473fad1b345f3ad42ff5",
            "d0d9d639dd5b444ea3a3bb87b00569b8",
            "a7f586b5c4e4451b92370fdd50aa6480",
            "ff735697d7174d3d97b6656c7dafc1bf",
            "3249567c6df0489a813e806aa5e681a3",
            "5da0c6df3c794ec8994ac6b61df5b8a7",
            "c9f048e45122477680513d2248f87d7c",
            "86f9a83576d3444c8ec05e2675a04df3",
            "c91974f161bf496c917f8dc07cd7fcda",
            "8427137e32574312a41397079f9b03fb",
            "c182d20c950e4d6db69d1cc7c8b89073"
          ]
        },
        "id": "lQrTbXlSliU1",
        "outputId": "5d12b94c-b941-405d-a106-9e6815237917"
      },
      "execution_count": 197,
      "outputs": [
        {
          "output_type": "display_data",
          "data": {
            "text/plain": [
              "interactive(children=(FloatSlider(value=10000000.0, description='M', max=100000000.0, min=1000000.0, step=1000…"
            ],
            "application/vnd.jupyter.widget-view+json": {
              "version_major": 2,
              "version_minor": 0,
              "model_id": "d95e961ae69c4efabb50b0328c444bca"
            }
          },
          "metadata": {}
        },
        {
          "output_type": "execute_result",
          "data": {
            "text/plain": [
              "<function __main__.plot_disk_spectrum(M, pref_acc, R, t)>"
            ]
          },
          "metadata": {},
          "execution_count": 197
        }
      ]
    }
  ]
}