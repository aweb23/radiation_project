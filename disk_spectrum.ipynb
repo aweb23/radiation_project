{
  "nbformat": 4,
  "nbformat_minor": 0,
  "metadata": {
    "colab": {
      "provenance": []
    },
    "kernelspec": {
      "name": "python3",
      "display_name": "Python 3"
    },
    "language_info": {
      "name": "python"
    }
  },
  "cells": [
    {
      "cell_type": "markdown",
      "source": [
        "I will be constructing a jupyter notebook that will compute the spectral evolution of a spreading\n",
        "annulus of gaseous mass orbiting a central force. The spreading annulus is representative\n",
        "of a one dimensional accretion disk model, and my motivation behind this idea is to\n",
        "understand how accretion disks change over time, both dynamically and in terms of the\n",
        "radiation they emit."
      ],
      "metadata": {
        "id": "ZjJIXwCEN5sI"
      }
    },
    {
      "cell_type": "markdown",
      "source": [
        "The next cell will import the necessary libraries such as numpy, scipy (with special functions), and matplotlib."
      ],
      "metadata": {
        "id": "5MEzJvaCO0Bu"
      }
    },
    {
      "cell_type": "markdown",
      "source": [
        "The next cell will define 8 relatively simple functions of radius to set up the physics of the spreading annulus of gaseous matter in a keplarian orbit. They are the kinematic viscosity, the kinematic viscosity derivative, angular momentum, angular momentum derivative, disk surface density (also a function of time), circular keplarian velocity, circular keplarian velocity derivative (acceleration) and radial velocity."
      ],
      "metadata": {
        "id": "GQYhHPcKP6Qz"
      }
    },
    {
      "cell_type": "markdown",
      "source": [
        "The mass dissipation rate of the disk will then be calcualted under the assumption of a steady disk. This rate is based on the kinematic viscosity, disk surface density, and the circular keplarian acceleration. Directly from this, the luminosity of the steady disk will be calculated by integrating the dissipation rate over the disk from the center to infinity. I will plot luminosity vs. radius."
      ],
      "metadata": {
        "id": "lDwxC9GWTeed"
      }
    },
    {
      "cell_type": "markdown",
      "source": [
        "The next cell will begin calculations for the thermal spectrum of the disk, assuming it is an isothermal blackbody; optically thick. A disk temperature profile is derived from these conditions, and from this the spectrum emitted is calcualted and plotted here."
      ],
      "metadata": {
        "id": "1OqpKA7PWRHC"
      }
    },
    {
      "cell_type": "markdown",
      "source": [
        "To represented how the spectrum evolves over time, I will plot the spectrum at key times during the spreading of the gaseous annulus overlayed (about 4-6 comparative stages) by varying the time parameter of the disk's surface density. I'm considering adding a widget on a seperate spectrum plot as well to vary the time."
      ],
      "metadata": {
        "id": "ogbMgdjaYB6D"
      }
    },
    
  ]
}
