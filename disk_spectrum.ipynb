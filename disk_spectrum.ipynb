{
  "nbformat": 4,
  "nbformat_minor": 0,
  "metadata": {
    "colab": {
      "provenance": []
    },
    "kernelspec": {
      "name": "python3",
      "display_name": "Python 3"
    },
    "language_info": {
      "name": "python"
    },
    "widgets": {
      "application/vnd.jupyter.widget-state+json": {
        "b02a8d7ba29b496fa1f1464f08b0b62b": {
          "model_module": "@jupyter-widgets/controls",
          "model_name": "VBoxModel",
          "model_module_version": "1.5.0",
          "state": {
            "_dom_classes": [
              "widget-interact"
            ],
            "_model_module": "@jupyter-widgets/controls",
            "_model_module_version": "1.5.0",
            "_model_name": "VBoxModel",
            "_view_count": null,
            "_view_module": "@jupyter-widgets/controls",
            "_view_module_version": "1.5.0",
            "_view_name": "VBoxView",
            "box_style": "",
            "children": [
              "IPY_MODEL_93e7b5ed220c4017b5d14e78b61dc8cf",
              "IPY_MODEL_7305559223c9466fb3799d57701c0326"
            ],
            "layout": "IPY_MODEL_b3e1e9033d6242d1bf8023cbd39eb3e0"
          }
        },
        "93e7b5ed220c4017b5d14e78b61dc8cf": {
          "model_module": "@jupyter-widgets/controls",
          "model_name": "FloatSliderModel",
          "model_module_version": "1.5.0",
          "state": {
            "_dom_classes": [],
            "_model_module": "@jupyter-widgets/controls",
            "_model_module_version": "1.5.0",
            "_model_name": "FloatSliderModel",
            "_view_count": null,
            "_view_module": "@jupyter-widgets/controls",
            "_view_module_version": "1.5.0",
            "_view_name": "FloatSliderView",
            "continuous_update": true,
            "description": "t",
            "description_tooltip": null,
            "disabled": false,
            "layout": "IPY_MODEL_3f841704d6764093b54ea2121eb7ae61",
            "max": 50,
            "min": 0.1,
            "orientation": "horizontal",
            "readout": true,
            "readout_format": ".2f",
            "step": 0.1,
            "style": "IPY_MODEL_df17964fe5764c8fa555d25f3080ccb7",
            "value": 6
          }
        },
        "7305559223c9466fb3799d57701c0326": {
          "model_module": "@jupyter-widgets/output",
          "model_name": "OutputModel",
          "model_module_version": "1.0.0",
          "state": {
            "_dom_classes": [],
            "_model_module": "@jupyter-widgets/output",
            "_model_module_version": "1.0.0",
            "_model_name": "OutputModel",
            "_view_count": null,
            "_view_module": "@jupyter-widgets/output",
            "_view_module_version": "1.0.0",
            "_view_name": "OutputView",
            "layout": "IPY_MODEL_bc74f8f3db1e407997f0c278b4bfaaf4",
            "msg_id": "",
            "outputs": [
              {
                "output_type": "stream",
                "name": "stderr",
                "text": [
                  "WARNING:matplotlib.legend:No artists with labels found to put in legend.  Note that artists whose label start with an underscore are ignored when legend() is called with no argument.\n"
                ]
              },
              {
                "output_type": "display_data",
                "data": {
                  "text/plain": "<Figure size 640x480 with 1 Axes>",
                  "image/png": "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\n"
                },
                "metadata": {}
              }
            ]
          }
        },
        "b3e1e9033d6242d1bf8023cbd39eb3e0": {
          "model_module": "@jupyter-widgets/base",
          "model_name": "LayoutModel",
          "model_module_version": "1.2.0",
          "state": {
            "_model_module": "@jupyter-widgets/base",
            "_model_module_version": "1.2.0",
            "_model_name": "LayoutModel",
            "_view_count": null,
            "_view_module": "@jupyter-widgets/base",
            "_view_module_version": "1.2.0",
            "_view_name": "LayoutView",
            "align_content": null,
            "align_items": null,
            "align_self": null,
            "border": null,
            "bottom": null,
            "display": null,
            "flex": null,
            "flex_flow": null,
            "grid_area": null,
            "grid_auto_columns": null,
            "grid_auto_flow": null,
            "grid_auto_rows": null,
            "grid_column": null,
            "grid_gap": null,
            "grid_row": null,
            "grid_template_areas": null,
            "grid_template_columns": null,
            "grid_template_rows": null,
            "height": null,
            "justify_content": null,
            "justify_items": null,
            "left": null,
            "margin": null,
            "max_height": null,
            "max_width": null,
            "min_height": null,
            "min_width": null,
            "object_fit": null,
            "object_position": null,
            "order": null,
            "overflow": null,
            "overflow_x": null,
            "overflow_y": null,
            "padding": null,
            "right": null,
            "top": null,
            "visibility": null,
            "width": null
          }
        },
        "3f841704d6764093b54ea2121eb7ae61": {
          "model_module": "@jupyter-widgets/base",
          "model_name": "LayoutModel",
          "model_module_version": "1.2.0",
          "state": {
            "_model_module": "@jupyter-widgets/base",
            "_model_module_version": "1.2.0",
            "_model_name": "LayoutModel",
            "_view_count": null,
            "_view_module": "@jupyter-widgets/base",
            "_view_module_version": "1.2.0",
            "_view_name": "LayoutView",
            "align_content": null,
            "align_items": null,
            "align_self": null,
            "border": null,
            "bottom": null,
            "display": null,
            "flex": null,
            "flex_flow": null,
            "grid_area": null,
            "grid_auto_columns": null,
            "grid_auto_flow": null,
            "grid_auto_rows": null,
            "grid_column": null,
            "grid_gap": null,
            "grid_row": null,
            "grid_template_areas": null,
            "grid_template_columns": null,
            "grid_template_rows": null,
            "height": null,
            "justify_content": null,
            "justify_items": null,
            "left": null,
            "margin": null,
            "max_height": null,
            "max_width": null,
            "min_height": null,
            "min_width": null,
            "object_fit": null,
            "object_position": null,
            "order": null,
            "overflow": null,
            "overflow_x": null,
            "overflow_y": null,
            "padding": null,
            "right": null,
            "top": null,
            "visibility": null,
            "width": null
          }
        },
        "df17964fe5764c8fa555d25f3080ccb7": {
          "model_module": "@jupyter-widgets/controls",
          "model_name": "SliderStyleModel",
          "model_module_version": "1.5.0",
          "state": {
            "_model_module": "@jupyter-widgets/controls",
            "_model_module_version": "1.5.0",
            "_model_name": "SliderStyleModel",
            "_view_count": null,
            "_view_module": "@jupyter-widgets/base",
            "_view_module_version": "1.2.0",
            "_view_name": "StyleView",
            "description_width": "",
            "handle_color": null
          }
        },
        "bc74f8f3db1e407997f0c278b4bfaaf4": {
          "model_module": "@jupyter-widgets/base",
          "model_name": "LayoutModel",
          "model_module_version": "1.2.0",
          "state": {
            "_model_module": "@jupyter-widgets/base",
            "_model_module_version": "1.2.0",
            "_model_name": "LayoutModel",
            "_view_count": null,
            "_view_module": "@jupyter-widgets/base",
            "_view_module_version": "1.2.0",
            "_view_name": "LayoutView",
            "align_content": null,
            "align_items": null,
            "align_self": null,
            "border": null,
            "bottom": null,
            "display": null,
            "flex": null,
            "flex_flow": null,
            "grid_area": null,
            "grid_auto_columns": null,
            "grid_auto_flow": null,
            "grid_auto_rows": null,
            "grid_column": null,
            "grid_gap": null,
            "grid_row": null,
            "grid_template_areas": null,
            "grid_template_columns": null,
            "grid_template_rows": null,
            "height": null,
            "justify_content": null,
            "justify_items": null,
            "left": null,
            "margin": null,
            "max_height": null,
            "max_width": null,
            "min_height": null,
            "min_width": null,
            "object_fit": null,
            "object_position": null,
            "order": null,
            "overflow": null,
            "overflow_x": null,
            "overflow_y": null,
            "padding": null,
            "right": null,
            "top": null,
            "visibility": null,
            "width": null
          }
        },
        "7e7037906ac04b70999dcb583d8480c5": {
          "model_module": "@jupyter-widgets/controls",
          "model_name": "VBoxModel",
          "model_module_version": "1.5.0",
          "state": {
            "_dom_classes": [
              "widget-interact"
            ],
            "_model_module": "@jupyter-widgets/controls",
            "_model_module_version": "1.5.0",
            "_model_name": "VBoxModel",
            "_view_count": null,
            "_view_module": "@jupyter-widgets/controls",
            "_view_module_version": "1.5.0",
            "_view_name": "VBoxView",
            "box_style": "",
            "children": [
              "IPY_MODEL_7a32226b95834b6e905a9c7d21150575",
              "IPY_MODEL_ad6ec5632c1e4d20ba4541a0772617e8"
            ],
            "layout": "IPY_MODEL_ac52bf1fb34440048a17d6db5ebede43"
          }
        },
        "7a32226b95834b6e905a9c7d21150575": {
          "model_module": "@jupyter-widgets/controls",
          "model_name": "FloatSliderModel",
          "model_module_version": "1.5.0",
          "state": {
            "_dom_classes": [],
            "_model_module": "@jupyter-widgets/controls",
            "_model_module_version": "1.5.0",
            "_model_name": "FloatSliderModel",
            "_view_count": null,
            "_view_module": "@jupyter-widgets/controls",
            "_view_module_version": "1.5.0",
            "_view_name": "FloatSliderView",
            "continuous_update": true,
            "description": "t",
            "description_tooltip": null,
            "disabled": false,
            "layout": "IPY_MODEL_8d4588fe7dfb458c8e2ae2ab904ad9de",
            "max": 50,
            "min": 0.1,
            "orientation": "horizontal",
            "readout": true,
            "readout_format": ".2f",
            "step": 0.1,
            "style": "IPY_MODEL_4d555db49ab94a158c5a4eb46b103d0b",
            "value": 10
          }
        },
        "ad6ec5632c1e4d20ba4541a0772617e8": {
          "model_module": "@jupyter-widgets/output",
          "model_name": "OutputModel",
          "model_module_version": "1.0.0",
          "state": {
            "_dom_classes": [],
            "_model_module": "@jupyter-widgets/output",
            "_model_module_version": "1.0.0",
            "_model_name": "OutputModel",
            "_view_count": null,
            "_view_module": "@jupyter-widgets/output",
            "_view_module_version": "1.0.0",
            "_view_name": "OutputView",
            "layout": "IPY_MODEL_7d6777b57bbb4115a9b065206737f3f0",
            "msg_id": "",
            "outputs": [
              {
                "output_type": "stream",
                "name": "stderr",
                "text": [
                  "<ipython-input-160-3a03006c7656>:21: RuntimeWarning: divide by zero encountered in log10\n",
                  "  plt.plot(nu_v, log10(L), \"-o\", mfc=\"none\")\n"
                ]
              },
              {
                "output_type": "display_data",
                "data": {
                  "text/plain": "<Figure size 640x480 with 1 Axes>",
                  "image/png": "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\n"
                },
                "metadata": {}
              }
            ]
          }
        },
        "ac52bf1fb34440048a17d6db5ebede43": {
          "model_module": "@jupyter-widgets/base",
          "model_name": "LayoutModel",
          "model_module_version": "1.2.0",
          "state": {
            "_model_module": "@jupyter-widgets/base",
            "_model_module_version": "1.2.0",
            "_model_name": "LayoutModel",
            "_view_count": null,
            "_view_module": "@jupyter-widgets/base",
            "_view_module_version": "1.2.0",
            "_view_name": "LayoutView",
            "align_content": null,
            "align_items": null,
            "align_self": null,
            "border": null,
            "bottom": null,
            "display": null,
            "flex": null,
            "flex_flow": null,
            "grid_area": null,
            "grid_auto_columns": null,
            "grid_auto_flow": null,
            "grid_auto_rows": null,
            "grid_column": null,
            "grid_gap": null,
            "grid_row": null,
            "grid_template_areas": null,
            "grid_template_columns": null,
            "grid_template_rows": null,
            "height": null,
            "justify_content": null,
            "justify_items": null,
            "left": null,
            "margin": null,
            "max_height": null,
            "max_width": null,
            "min_height": null,
            "min_width": null,
            "object_fit": null,
            "object_position": null,
            "order": null,
            "overflow": null,
            "overflow_x": null,
            "overflow_y": null,
            "padding": null,
            "right": null,
            "top": null,
            "visibility": null,
            "width": null
          }
        },
        "8d4588fe7dfb458c8e2ae2ab904ad9de": {
          "model_module": "@jupyter-widgets/base",
          "model_name": "LayoutModel",
          "model_module_version": "1.2.0",
          "state": {
            "_model_module": "@jupyter-widgets/base",
            "_model_module_version": "1.2.0",
            "_model_name": "LayoutModel",
            "_view_count": null,
            "_view_module": "@jupyter-widgets/base",
            "_view_module_version": "1.2.0",
            "_view_name": "LayoutView",
            "align_content": null,
            "align_items": null,
            "align_self": null,
            "border": null,
            "bottom": null,
            "display": null,
            "flex": null,
            "flex_flow": null,
            "grid_area": null,
            "grid_auto_columns": null,
            "grid_auto_flow": null,
            "grid_auto_rows": null,
            "grid_column": null,
            "grid_gap": null,
            "grid_row": null,
            "grid_template_areas": null,
            "grid_template_columns": null,
            "grid_template_rows": null,
            "height": null,
            "justify_content": null,
            "justify_items": null,
            "left": null,
            "margin": null,
            "max_height": null,
            "max_width": null,
            "min_height": null,
            "min_width": null,
            "object_fit": null,
            "object_position": null,
            "order": null,
            "overflow": null,
            "overflow_x": null,
            "overflow_y": null,
            "padding": null,
            "right": null,
            "top": null,
            "visibility": null,
            "width": null
          }
        },
        "4d555db49ab94a158c5a4eb46b103d0b": {
          "model_module": "@jupyter-widgets/controls",
          "model_name": "SliderStyleModel",
          "model_module_version": "1.5.0",
          "state": {
            "_model_module": "@jupyter-widgets/controls",
            "_model_module_version": "1.5.0",
            "_model_name": "SliderStyleModel",
            "_view_count": null,
            "_view_module": "@jupyter-widgets/base",
            "_view_module_version": "1.2.0",
            "_view_name": "StyleView",
            "description_width": "",
            "handle_color": null
          }
        },
        "7d6777b57bbb4115a9b065206737f3f0": {
          "model_module": "@jupyter-widgets/base",
          "model_name": "LayoutModel",
          "model_module_version": "1.2.0",
          "state": {
            "_model_module": "@jupyter-widgets/base",
            "_model_module_version": "1.2.0",
            "_model_name": "LayoutModel",
            "_view_count": null,
            "_view_module": "@jupyter-widgets/base",
            "_view_module_version": "1.2.0",
            "_view_name": "LayoutView",
            "align_content": null,
            "align_items": null,
            "align_self": null,
            "border": null,
            "bottom": null,
            "display": null,
            "flex": null,
            "flex_flow": null,
            "grid_area": null,
            "grid_auto_columns": null,
            "grid_auto_flow": null,
            "grid_auto_rows": null,
            "grid_column": null,
            "grid_gap": null,
            "grid_row": null,
            "grid_template_areas": null,
            "grid_template_columns": null,
            "grid_template_rows": null,
            "height": null,
            "justify_content": null,
            "justify_items": null,
            "left": null,
            "margin": null,
            "max_height": null,
            "max_width": null,
            "min_height": null,
            "min_width": null,
            "object_fit": null,
            "object_position": null,
            "order": null,
            "overflow": null,
            "overflow_x": null,
            "overflow_y": null,
            "padding": null,
            "right": null,
            "top": null,
            "visibility": null,
            "width": null
          }
        },
        "2a8d834c0de14a2785c46ce44058472e": {
          "model_module": "@jupyter-widgets/controls",
          "model_name": "VBoxModel",
          "model_module_version": "1.5.0",
          "state": {
            "_dom_classes": [
              "widget-interact"
            ],
            "_model_module": "@jupyter-widgets/controls",
            "_model_module_version": "1.5.0",
            "_model_name": "VBoxModel",
            "_view_count": null,
            "_view_module": "@jupyter-widgets/controls",
            "_view_module_version": "1.5.0",
            "_view_name": "VBoxView",
            "box_style": "",
            "children": [
              "IPY_MODEL_c7bef6d72eac4829aaebdd5719e12466",
              "IPY_MODEL_356c799b917142a883ee52f6fdb305bf",
              "IPY_MODEL_1e7af69fcefe43f3985d5af6feee7aa1",
              "IPY_MODEL_cc13678e842f46cc9d6672e50d210183",
              "IPY_MODEL_d2cd325bce45403c83adc25d2f655039"
            ],
            "layout": "IPY_MODEL_8ae755bcd78244bab4dfd40a52b74b75"
          }
        },
        "c7bef6d72eac4829aaebdd5719e12466": {
          "model_module": "@jupyter-widgets/controls",
          "model_name": "FloatSliderModel",
          "model_module_version": "1.5.0",
          "state": {
            "_dom_classes": [],
            "_model_module": "@jupyter-widgets/controls",
            "_model_module_version": "1.5.0",
            "_model_name": "FloatSliderModel",
            "_view_count": null,
            "_view_module": "@jupyter-widgets/controls",
            "_view_module_version": "1.5.0",
            "_view_name": "FloatSliderView",
            "continuous_update": true,
            "description": "M",
            "description_tooltip": null,
            "disabled": false,
            "layout": "IPY_MODEL_c824e1940d84426c894a8a23276e282d",
            "max": 100000000,
            "min": 10000,
            "orientation": "horizontal",
            "readout": true,
            "readout_format": ".2f",
            "step": 10000,
            "style": "IPY_MODEL_1a971866ca9e4702b1b0143f22ad5772",
            "value": 93220000
          }
        },
        "356c799b917142a883ee52f6fdb305bf": {
          "model_module": "@jupyter-widgets/controls",
          "model_name": "FloatSliderModel",
          "model_module_version": "1.5.0",
          "state": {
            "_dom_classes": [],
            "_model_module": "@jupyter-widgets/controls",
            "_model_module_version": "1.5.0",
            "_model_name": "FloatSliderModel",
            "_view_count": null,
            "_view_module": "@jupyter-widgets/controls",
            "_view_module_version": "1.5.0",
            "_view_name": "FloatSliderView",
            "continuous_update": true,
            "description": "pref_acc",
            "description_tooltip": null,
            "disabled": false,
            "layout": "IPY_MODEL_c924de7bd5244e09808558d776030d1e",
            "max": 10,
            "min": 1,
            "orientation": "horizontal",
            "readout": true,
            "readout_format": ".2f",
            "step": 0.1,
            "style": "IPY_MODEL_62b07b83924d40498b190a7a8cce3c83",
            "value": 10
          }
        },
        "1e7af69fcefe43f3985d5af6feee7aa1": {
          "model_module": "@jupyter-widgets/controls",
          "model_name": "FloatSliderModel",
          "model_module_version": "1.5.0",
          "state": {
            "_dom_classes": [],
            "_model_module": "@jupyter-widgets/controls",
            "_model_module_version": "1.5.0",
            "_model_name": "FloatSliderModel",
            "_view_count": null,
            "_view_module": "@jupyter-widgets/controls",
            "_view_module_version": "1.5.0",
            "_view_name": "FloatSliderView",
            "continuous_update": true,
            "description": "R",
            "description_tooltip": null,
            "disabled": false,
            "layout": "IPY_MODEL_4aae1694fac44c26bb1d4f3448db7baf",
            "max": 100,
            "min": 1,
            "orientation": "horizontal",
            "readout": true,
            "readout_format": ".2f",
            "step": 0.1,
            "style": "IPY_MODEL_eab7bc9cf93f42c18fb2ff180364c140",
            "value": 10
          }
        },
        "cc13678e842f46cc9d6672e50d210183": {
          "model_module": "@jupyter-widgets/controls",
          "model_name": "FloatSliderModel",
          "model_module_version": "1.5.0",
          "state": {
            "_dom_classes": [],
            "_model_module": "@jupyter-widgets/controls",
            "_model_module_version": "1.5.0",
            "_model_name": "FloatSliderModel",
            "_view_count": null,
            "_view_module": "@jupyter-widgets/controls",
            "_view_module_version": "1.5.0",
            "_view_name": "FloatSliderView",
            "continuous_update": true,
            "description": "t",
            "description_tooltip": null,
            "disabled": false,
            "layout": "IPY_MODEL_1286f6d4c036403c854f663c00f79de9",
            "max": 10000,
            "min": 0.1,
            "orientation": "horizontal",
            "readout": true,
            "readout_format": ".2f",
            "step": 0.1,
            "style": "IPY_MODEL_27115bcef22c4e86b17c81a0fdc3d4e8",
            "value": 5037.3
          }
        },
        "d2cd325bce45403c83adc25d2f655039": {
          "model_module": "@jupyter-widgets/output",
          "model_name": "OutputModel",
          "model_module_version": "1.0.0",
          "state": {
            "_dom_classes": [],
            "_model_module": "@jupyter-widgets/output",
            "_model_module_version": "1.0.0",
            "_model_name": "OutputModel",
            "_view_count": null,
            "_view_module": "@jupyter-widgets/output",
            "_view_module_version": "1.0.0",
            "_view_name": "OutputView",
            "layout": "IPY_MODEL_1419c3a8fc164e848f71faaae3742752",
            "msg_id": "",
            "outputs": [
              {
                "output_type": "stream",
                "name": "stderr",
                "text": [
                  "<ipython-input-163-a14d0d42af66>:22: RuntimeWarning: overflow encountered in exp\n",
                  "  return 2 * h * nu**3 / c**2 / (exp(h * nu / (k * T)) - 1)\n",
                  "WARNING:matplotlib.legend:No artists with labels found to put in legend.  Note that artists whose label start with an underscore are ignored when legend() is called with no argument.\n"
                ]
              },
              {
                "output_type": "display_data",
                "data": {
                  "text/plain": "<Figure size 640x480 with 1 Axes>",
                  "image/png": "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\n"
                },
                "metadata": {}
              }
            ]
          }
        },
        "8ae755bcd78244bab4dfd40a52b74b75": {
          "model_module": "@jupyter-widgets/base",
          "model_name": "LayoutModel",
          "model_module_version": "1.2.0",
          "state": {
            "_model_module": "@jupyter-widgets/base",
            "_model_module_version": "1.2.0",
            "_model_name": "LayoutModel",
            "_view_count": null,
            "_view_module": "@jupyter-widgets/base",
            "_view_module_version": "1.2.0",
            "_view_name": "LayoutView",
            "align_content": null,
            "align_items": null,
            "align_self": null,
            "border": null,
            "bottom": null,
            "display": null,
            "flex": null,
            "flex_flow": null,
            "grid_area": null,
            "grid_auto_columns": null,
            "grid_auto_flow": null,
            "grid_auto_rows": null,
            "grid_column": null,
            "grid_gap": null,
            "grid_row": null,
            "grid_template_areas": null,
            "grid_template_columns": null,
            "grid_template_rows": null,
            "height": null,
            "justify_content": null,
            "justify_items": null,
            "left": null,
            "margin": null,
            "max_height": null,
            "max_width": null,
            "min_height": null,
            "min_width": null,
            "object_fit": null,
            "object_position": null,
            "order": null,
            "overflow": null,
            "overflow_x": null,
            "overflow_y": null,
            "padding": null,
            "right": null,
            "top": null,
            "visibility": null,
            "width": null
          }
        },
        "c824e1940d84426c894a8a23276e282d": {
          "model_module": "@jupyter-widgets/base",
          "model_name": "LayoutModel",
          "model_module_version": "1.2.0",
          "state": {
            "_model_module": "@jupyter-widgets/base",
            "_model_module_version": "1.2.0",
            "_model_name": "LayoutModel",
            "_view_count": null,
            "_view_module": "@jupyter-widgets/base",
            "_view_module_version": "1.2.0",
            "_view_name": "LayoutView",
            "align_content": null,
            "align_items": null,
            "align_self": null,
            "border": null,
            "bottom": null,
            "display": null,
            "flex": null,
            "flex_flow": null,
            "grid_area": null,
            "grid_auto_columns": null,
            "grid_auto_flow": null,
            "grid_auto_rows": null,
            "grid_column": null,
            "grid_gap": null,
            "grid_row": null,
            "grid_template_areas": null,
            "grid_template_columns": null,
            "grid_template_rows": null,
            "height": null,
            "justify_content": null,
            "justify_items": null,
            "left": null,
            "margin": null,
            "max_height": null,
            "max_width": null,
            "min_height": null,
            "min_width": null,
            "object_fit": null,
            "object_position": null,
            "order": null,
            "overflow": null,
            "overflow_x": null,
            "overflow_y": null,
            "padding": null,
            "right": null,
            "top": null,
            "visibility": null,
            "width": null
          }
        },
        "1a971866ca9e4702b1b0143f22ad5772": {
          "model_module": "@jupyter-widgets/controls",
          "model_name": "SliderStyleModel",
          "model_module_version": "1.5.0",
          "state": {
            "_model_module": "@jupyter-widgets/controls",
            "_model_module_version": "1.5.0",
            "_model_name": "SliderStyleModel",
            "_view_count": null,
            "_view_module": "@jupyter-widgets/base",
            "_view_module_version": "1.2.0",
            "_view_name": "StyleView",
            "description_width": "",
            "handle_color": null
          }
        },
        "c924de7bd5244e09808558d776030d1e": {
          "model_module": "@jupyter-widgets/base",
          "model_name": "LayoutModel",
          "model_module_version": "1.2.0",
          "state": {
            "_model_module": "@jupyter-widgets/base",
            "_model_module_version": "1.2.0",
            "_model_name": "LayoutModel",
            "_view_count": null,
            "_view_module": "@jupyter-widgets/base",
            "_view_module_version": "1.2.0",
            "_view_name": "LayoutView",
            "align_content": null,
            "align_items": null,
            "align_self": null,
            "border": null,
            "bottom": null,
            "display": null,
            "flex": null,
            "flex_flow": null,
            "grid_area": null,
            "grid_auto_columns": null,
            "grid_auto_flow": null,
            "grid_auto_rows": null,
            "grid_column": null,
            "grid_gap": null,
            "grid_row": null,
            "grid_template_areas": null,
            "grid_template_columns": null,
            "grid_template_rows": null,
            "height": null,
            "justify_content": null,
            "justify_items": null,
            "left": null,
            "margin": null,
            "max_height": null,
            "max_width": null,
            "min_height": null,
            "min_width": null,
            "object_fit": null,
            "object_position": null,
            "order": null,
            "overflow": null,
            "overflow_x": null,
            "overflow_y": null,
            "padding": null,
            "right": null,
            "top": null,
            "visibility": null,
            "width": null
          }
        },
        "62b07b83924d40498b190a7a8cce3c83": {
          "model_module": "@jupyter-widgets/controls",
          "model_name": "SliderStyleModel",
          "model_module_version": "1.5.0",
          "state": {
            "_model_module": "@jupyter-widgets/controls",
            "_model_module_version": "1.5.0",
            "_model_name": "SliderStyleModel",
            "_view_count": null,
            "_view_module": "@jupyter-widgets/base",
            "_view_module_version": "1.2.0",
            "_view_name": "StyleView",
            "description_width": "",
            "handle_color": null
          }
        },
        "4aae1694fac44c26bb1d4f3448db7baf": {
          "model_module": "@jupyter-widgets/base",
          "model_name": "LayoutModel",
          "model_module_version": "1.2.0",
          "state": {
            "_model_module": "@jupyter-widgets/base",
            "_model_module_version": "1.2.0",
            "_model_name": "LayoutModel",
            "_view_count": null,
            "_view_module": "@jupyter-widgets/base",
            "_view_module_version": "1.2.0",
            "_view_name": "LayoutView",
            "align_content": null,
            "align_items": null,
            "align_self": null,
            "border": null,
            "bottom": null,
            "display": null,
            "flex": null,
            "flex_flow": null,
            "grid_area": null,
            "grid_auto_columns": null,
            "grid_auto_flow": null,
            "grid_auto_rows": null,
            "grid_column": null,
            "grid_gap": null,
            "grid_row": null,
            "grid_template_areas": null,
            "grid_template_columns": null,
            "grid_template_rows": null,
            "height": null,
            "justify_content": null,
            "justify_items": null,
            "left": null,
            "margin": null,
            "max_height": null,
            "max_width": null,
            "min_height": null,
            "min_width": null,
            "object_fit": null,
            "object_position": null,
            "order": null,
            "overflow": null,
            "overflow_x": null,
            "overflow_y": null,
            "padding": null,
            "right": null,
            "top": null,
            "visibility": null,
            "width": null
          }
        },
        "eab7bc9cf93f42c18fb2ff180364c140": {
          "model_module": "@jupyter-widgets/controls",
          "model_name": "SliderStyleModel",
          "model_module_version": "1.5.0",
          "state": {
            "_model_module": "@jupyter-widgets/controls",
            "_model_module_version": "1.5.0",
            "_model_name": "SliderStyleModel",
            "_view_count": null,
            "_view_module": "@jupyter-widgets/base",
            "_view_module_version": "1.2.0",
            "_view_name": "StyleView",
            "description_width": "",
            "handle_color": null
          }
        },
        "1286f6d4c036403c854f663c00f79de9": {
          "model_module": "@jupyter-widgets/base",
          "model_name": "LayoutModel",
          "model_module_version": "1.2.0",
          "state": {
            "_model_module": "@jupyter-widgets/base",
            "_model_module_version": "1.2.0",
            "_model_name": "LayoutModel",
            "_view_count": null,
            "_view_module": "@jupyter-widgets/base",
            "_view_module_version": "1.2.0",
            "_view_name": "LayoutView",
            "align_content": null,
            "align_items": null,
            "align_self": null,
            "border": null,
            "bottom": null,
            "display": null,
            "flex": null,
            "flex_flow": null,
            "grid_area": null,
            "grid_auto_columns": null,
            "grid_auto_flow": null,
            "grid_auto_rows": null,
            "grid_column": null,
            "grid_gap": null,
            "grid_row": null,
            "grid_template_areas": null,
            "grid_template_columns": null,
            "grid_template_rows": null,
            "height": null,
            "justify_content": null,
            "justify_items": null,
            "left": null,
            "margin": null,
            "max_height": null,
            "max_width": null,
            "min_height": null,
            "min_width": null,
            "object_fit": null,
            "object_position": null,
            "order": null,
            "overflow": null,
            "overflow_x": null,
            "overflow_y": null,
            "padding": null,
            "right": null,
            "top": null,
            "visibility": null,
            "width": null
          }
        },
        "27115bcef22c4e86b17c81a0fdc3d4e8": {
          "model_module": "@jupyter-widgets/controls",
          "model_name": "SliderStyleModel",
          "model_module_version": "1.5.0",
          "state": {
            "_model_module": "@jupyter-widgets/controls",
            "_model_module_version": "1.5.0",
            "_model_name": "SliderStyleModel",
            "_view_count": null,
            "_view_module": "@jupyter-widgets/base",
            "_view_module_version": "1.2.0",
            "_view_name": "StyleView",
            "description_width": "",
            "handle_color": null
          }
        },
        "1419c3a8fc164e848f71faaae3742752": {
          "model_module": "@jupyter-widgets/base",
          "model_name": "LayoutModel",
          "model_module_version": "1.2.0",
          "state": {
            "_model_module": "@jupyter-widgets/base",
            "_model_module_version": "1.2.0",
            "_model_name": "LayoutModel",
            "_view_count": null,
            "_view_module": "@jupyter-widgets/base",
            "_view_module_version": "1.2.0",
            "_view_name": "LayoutView",
            "align_content": null,
            "align_items": null,
            "align_self": null,
            "border": null,
            "bottom": null,
            "display": null,
            "flex": null,
            "flex_flow": null,
            "grid_area": null,
            "grid_auto_columns": null,
            "grid_auto_flow": null,
            "grid_auto_rows": null,
            "grid_column": null,
            "grid_gap": null,
            "grid_row": null,
            "grid_template_areas": null,
            "grid_template_columns": null,
            "grid_template_rows": null,
            "height": null,
            "justify_content": null,
            "justify_items": null,
            "left": null,
            "margin": null,
            "max_height": null,
            "max_width": null,
            "min_height": null,
            "min_width": null,
            "object_fit": null,
            "object_position": null,
            "order": null,
            "overflow": null,
            "overflow_x": null,
            "overflow_y": null,
            "padding": null,
            "right": null,
            "top": null,
            "visibility": null,
            "width": null
          }
        }
      }
    }
  },
  "cells": [
    {
      "cell_type": "markdown",
      "source": [
        "Introduction: Here I will be constructing a jupyter notebook that will compute the spectral evolution of a spreading\n",
        "annulus of gaseous mass orbiting a central mass, representative of a black hole in this case. The spreading annulus is representative\n",
        "of a one dimensional accretion disk model, and my motivation behind this idea is to\n",
        "understand how accretion disks change over time, both dynamically and in terms of the\n",
        "radiation they emit."
      ],
      "metadata": {
        "id": "ZjJIXwCEN5sI"
      }
    },
    {
      "cell_type": "markdown",
      "source": [
        "This cell will import the necessary libraries such as numpy, scipy (with special functions), and matplotlib, as well as some tools to help visualize how my plots change with certain varied parameters."
      ],
      "metadata": {
        "id": "5MEzJvaCO0Bu"
      }
    },
    {
      "cell_type": "code",
      "source": [
        "import numpy as np\n",
        "from numpy import *\n",
        "import scipy\n",
        "from matplotlib import pyplot as plt\n",
        "from scipy import special\n",
        "from ipywidgets import interact, interactive\n",
        "import ipywidgets as widgets"
      ],
      "metadata": {
        "id": "uhIHr4-BY0TA"
      },
      "execution_count": 149,
      "outputs": []
    },
    {
      "cell_type": "markdown",
      "source": [
        "I now define variables for the physical constants I will be using in cgs units, such as the universal gravitaional constant, the speed of light, the Stefan Boltzman constant, Planck's constant,  and the salpeter time (defined as the timescale for black hole growth assuming accretion does not exceed the Eddington limit)."
      ],
      "metadata": {
        "id": "XjFv03wVGKYg"
      }
    },
    {
      "cell_type": "code",
      "source": [
        "GM = 1.0\n",
        "Rstar = 1.0\n",
        "G = 6.67e-8  # cm^3 g^-1 s^-2\n",
        "Msun = 2e33  # g\n",
        "sb = 5.67e-5  # g s^-3 K^-4: Stefan Boltzman Constant in cgs\n",
        "c = 3e10  # cm s^-1\n",
        "h = 6.626e-27  # ergs s: Planck's Constant in cgs\n",
        "k = 1.38e-16  # ergs K^-1\n",
        "year = 3.15e7 # s\n",
        "tsal = 5e7 * year # s: salpeter time\n",
        "erg = 6.242e11  # eV"
      ],
      "metadata": {
        "id": "3FnQ7OCoCZYa"
      },
      "execution_count": 150,
      "outputs": []
    },
    {
      "cell_type": "markdown",
      "source": [
        "The next cell will define relatively simple functions of radius to set up the physics of the spreading annulus of gaseous matter in a keplarian orbit. They are the kinematic viscosity, the kinematic viscosity derivative, angular momentum, angular momentum derivative, disk surface density (also a function of time), circular keplarian velocity, circular keplarian velocity derivative (acceleration), radial velocity, and mass flux. In doing so, this cell generates a visual depiction of the surface density of an accretion disk as a function of radius. In accretion disks, most of the mass moves inward near the initial radius, losing energy and angular momentum. This is seen in the plot below."
      ],
      "metadata": {
        "id": "GQYhHPcKP6Qz"
      }
    },
    {
      "cell_type": "code",
      "source": [
        "def kinematic_viscosity(R):\n",
        "    return 1e-1\n",
        "\n",
        "\n",
        "def kinematic_viscosity_derivative(R):\n",
        "    return 0.0\n"
      ],
      "metadata": {
        "id": "yvo-yechJCr2"
      },
      "execution_count": 151,
      "outputs": []
    },
    {
      "cell_type": "code",
      "source": [
        "def keplerian_omega_log_derivative(R):\n",
        "    \"\"\"\n",
        "    Return the shear profile d(Omega) / d(log R)\n",
        "    \"\"\"\n",
        "    return -1.5 * sqrt(GM / R**3)\n",
        "\n",
        "\n",
        "def keplerian_omega(R):\n",
        "    return sqrt(GM / R**3)\n"
      ],
      "metadata": {
        "id": "giYZLD7bJIiM"
      },
      "execution_count": 152,
      "outputs": []
    },
    {
      "cell_type": "code",
      "source": [
        "def specific_angular_momentum(R):\n",
        "    return sqrt(GM * R)\n",
        "\n",
        "\n",
        "def specific_angular_momentum_derivative(R):\n",
        "    return 0.5 * sqrt(GM / R)\n"
      ],
      "metadata": {
        "id": "YN622saWJQxH"
      },
      "execution_count": 153,
      "outputs": []
    },
    {
      "cell_type": "code",
      "source": [
        "def sigma(M, R):\n",
        "    \"\"\"\n",
        "    Return the surface density at a paticular radius at a time\n",
        "    \"\"\"\n",
        "    return M / (pi * diff(R**2))"
      ],
      "metadata": {
        "id": "Gm3Gi7ZgJSZU"
      },
      "execution_count": 154,
      "outputs": []
    },
    {
      "cell_type": "code",
      "source": [
        "def radial_velocity(M, R):\n",
        "    \"\"\"\n",
        "    Return the radial gas velocity at the internal zone interfaces\n",
        "\n",
        "    v = d/dR(R g) / (sigma R l')\n",
        "    \"\"\"\n",
        "    Rc = 0.5 * (R[1:] + R[:-1])\n",
        "    s = sigma(M, R)\n",
        "    n = kinematic_viscosity(Rc)\n",
        "    A = keplerian_omega_log_derivative(Rc)\n",
        "    g = Rc * s * n * A\n",
        "    m = specific_angular_momentum_derivative(R[1:-1])\n",
        "    return diff(Rc * g) / diff(Rc) / (0.5 * (s[1:] + s[:-1]) * m * R[1:-1])"
      ],
      "metadata": {
        "id": "G3h874O6Naq7"
      },
      "execution_count": 155,
      "outputs": []
    },
    {
      "cell_type": "code",
      "source": [
        "def surface_density(M, R, t):\n",
        "    \"\"\"\n",
        "    Return the analytic solution for the surface density\n",
        "    \"\"\"\n",
        "    m = 1.0\n",
        "    Ri = 4.0\n",
        "    n = kinematic_viscosity(R)\n",
        "    tau = 12 * n * (Ri**-2) * t\n",
        "    x = (R/Ri)\n",
        "    return ((m/pi * Ri**2) * tau**(-1) * (x**(-1/4)) * exp(-(1+(x**2))/tau) * scipy.special.iv(0.25, 2 * x / tau))"
      ],
      "metadata": {
        "id": "2qm2yXkANpQ6"
      },
      "execution_count": 156,
      "outputs": []
    },
    {
      "cell_type": "code",
      "source": [
        "def godunov_fluxes(M, R, ret_torque=False):\n",
        "    Mdot = 1.0\n",
        "\n",
        "    R0 = R[:-1]\n",
        "    R1 = R[+1:]\n",
        "\n",
        "    Fhat = zeros_like(R)\n",
        "    s = sigma(M, R)\n",
        "    v_hat = radial_velocity(M, R)\n",
        "    s_hat = (v_hat > 0.0) * s[:-1] + (v_hat < 0.0) * s[1:]\n",
        "    Fhat[1:-1] = 2 * pi * R[1:-1] * s_hat * v_hat\n",
        "\n",
        "    # Boundary conditions on the mass flux:\n",
        "    Fhat[+0] = -Mdot\n",
        "    Fhat[-1] = -Mdot\n",
        "\n",
        "    if ret_torque:\n",
        "        A = keplerian_omega_log_derivative(R)\n",
        "        nu = kinematic_viscosity(R)\n",
        "        Ghat = zeros_like(R)\n",
        "        Ghat[1:-1] = -2 * pi * s_hat * (nu * A * R**2)[1:-1]\n",
        "        return Fhat, Fhat * specific_angular_momentum(R), Ghat\n",
        "    else:\n",
        "        return Fhat\n",
        "\n",
        "\n",
        "def time_derivative(M, R):\n",
        "    Fhat = godunov_fluxes(M, R)\n",
        "    return -diff(Fhat)"
      ],
      "metadata": {
        "id": "n9ATThreNr4x"
      },
      "execution_count": 157,
      "outputs": []
    },
    {
      "cell_type": "code",
      "source": [
        "def set_plot(M, R, ax=None):\n",
        "    from matplotlib import pyplot as plt\n",
        "\n",
        "    if ax is None:\n",
        "        fig = plt.figure()\n",
        "        ax = fig.add_subplot(111)\n",
        "\n",
        "    R0 = R[:-1]\n",
        "    R1 = R[+1:]\n",
        "    Rc = 0.5 * (R0 + R1)\n",
        "    mdot, Jdot_adv, Jdot_vis = godunov_fluxes(M, R, ret_torque=True)\n",
        "    v = radial_velocity(M, R)\n",
        "    ax.set_xlabel(r\"$R$\")\n",
        "    ax.legend()\n",
        "    return ax\n",
        "\n",
        "\n",
        "def plot_disk_surface_density(t:float):\n",
        "    N = 1000\n",
        "    R = linspace(2.0 * Rstar, 100.0 * Rstar, N + 1)\n",
        "    dR = diff(R)\n",
        "    R0 = R[:-1]\n",
        "    R1 = R[+1:]\n",
        "    Rc = 0.5 * (R0 + R1)\n",
        "    dt = 0.1 * (dR**2 / kinematic_viscosity(R)).min()\n",
        "\n",
        "    tfinal = 50.0\n",
        "    s = 1.0\n",
        "    M = s * pi * (R1**2 - R0**2)\n",
        "    n = 0\n",
        "\n",
        "    fig = plt.figure()\n",
        "    ax = fig.add_subplot(111)\n",
        "\n",
        "    if set_plot:\n",
        "        set_plot(M, R, ax=ax)\n",
        "\n",
        "    s1 = surface_density(M, R, t)\n",
        "    ax.plot(R, s1, \"-o\", mfc=\"none\", label=r\"$\\Sigma$ Numerical\")\n",
        "\n",
        "    while t < tfinal:\n",
        "        K = time_derivative(M, R)\n",
        "        M += K * dt\n",
        "        t += dt\n",
        "        n += 1\n",
        "\n",
        "    if set_plot:\n",
        "        set_plot(M, R, ax=ax)\n",
        "        plt.title('Disk Surface Density')\n",
        "        plt.xlim([0, 20])\n",
        "        plt.ylim([0, 5.0])\n",
        "        plt.show()"
      ],
      "metadata": {
        "id": "weTemHMxY01e"
      },
      "execution_count": 158,
      "outputs": []
    },
    {
      "cell_type": "code",
      "source": [
        "interact(plot_disk_surface_density,\n",
        "  t = widgets.FloatSlider(value=10.0, min=0.1, max = 50, step=0.1, descriptions='time', disabled=False))"
      ],
      "metadata": {
        "colab": {
          "base_uri": "https://localhost:8080/",
          "height": 556,
          "referenced_widgets": [
            "b02a8d7ba29b496fa1f1464f08b0b62b",
            "93e7b5ed220c4017b5d14e78b61dc8cf",
            "7305559223c9466fb3799d57701c0326",
            "b3e1e9033d6242d1bf8023cbd39eb3e0",
            "3f841704d6764093b54ea2121eb7ae61",
            "df17964fe5764c8fa555d25f3080ccb7",
            "bc74f8f3db1e407997f0c278b4bfaaf4"
          ]
        },
        "id": "p7XaG9vMw1eX",
        "outputId": "441986a2-0b40-4b35-fee3-6ffb69132c61"
      },
      "execution_count": 159,
      "outputs": [
        {
          "output_type": "display_data",
          "data": {
            "text/plain": [
              "interactive(children=(FloatSlider(value=10.0, description='t', max=50.0, min=0.1), Output()), _dom_classes=('w…"
            ],
            "application/vnd.jupyter.widget-view+json": {
              "version_major": 2,
              "version_minor": 0,
              "model_id": "b02a8d7ba29b496fa1f1464f08b0b62b"
            }
          },
          "metadata": {}
        },
        {
          "output_type": "execute_result",
          "data": {
            "text/plain": [
              "<function __main__.plot_disk_surface_density(t: float)>"
            ]
          },
          "metadata": {},
          "execution_count": 159
        }
      ]
    },
    {
      "cell_type": "markdown",
      "source": [
        "The mass dissipation rate of the disk will then be calcualted under the assumption of a steady disk. This rate is based on the kinematic viscosity, disk surface density, and the circular keplarian acceleration. Directly from this, the luminosity of the steady disk will be calculated by integrating the dissipation rate over the disk from the center to infinity. In the next cell, I plot luminosity vs. frequency on a logarithmic scale."
      ],
      "metadata": {
        "id": "lDwxC9GWTeed"
      }
    },
    {
      "cell_type": "code",
      "source": [
        "def plot_disk_luminosity(t: float):\n",
        "    N = 1000\n",
        "    R = np.linspace(2.0 * Rstar, 100.0 * Rstar, N + 1)\n",
        "    dR = diff(R)\n",
        "    Rl = R[:-1]\n",
        "    Rf = R[+1:]\n",
        "    Rc = 0.5 * (Rl + Rf)\n",
        "    dt = 0.1 * (dR**2 / kinematic_viscosity(R)).min()\n",
        "    s = 1.0\n",
        "    M = s * pi * (Rf**2 - Rl**2)\n",
        "    s1 = surface_density(M, R, t)\n",
        "\n",
        "    #Vr = radial_velocity(M, R)\n",
        "    # but for R >> Rstar,\n",
        "    Vr = -3 * kinematic_viscosity(R) / (2 * R)\n",
        "    Mdot = 2 * np.pi * R * s1 * -Vr\n",
        "\n",
        "    L = 0.5 * G * M * Mdot[+1:] / Rstar\n",
        "    nu_v = logspace(12, 15, 1000)\n",
        "\n",
        "    plt.plot(nu_v, log10(L), \"-o\", mfc=\"none\")\n",
        "    #plt.xscale('log')\n",
        "    #plt.yscale('log')\n",
        "    plt.xlabel('R')\n",
        "    plt.ylabel('L')\n",
        "    plt.title('Total Disk Luminosity')\n",
        "    #plt.xlim([0, 10**15])\n",
        "    #plt.ylim([0, 10**13])\n",
        "    plt.show()"
      ],
      "metadata": {
        "id": "fZbajoNYY3u1"
      },
      "execution_count": 160,
      "outputs": []
    },
    {
      "cell_type": "code",
      "source": [
        "interact(plot_disk_luminosity,\n",
        "  t = widgets.FloatSlider(value=10.0, min=0.1, max = 50, step=0.1, descriptions='time', disabled=False))"
      ],
      "metadata": {
        "colab": {
          "base_uri": "https://localhost:8080/",
          "height": 556,
          "referenced_widgets": [
            "7e7037906ac04b70999dcb583d8480c5",
            "7a32226b95834b6e905a9c7d21150575",
            "ad6ec5632c1e4d20ba4541a0772617e8",
            "ac52bf1fb34440048a17d6db5ebede43",
            "8d4588fe7dfb458c8e2ae2ab904ad9de",
            "4d555db49ab94a158c5a4eb46b103d0b",
            "7d6777b57bbb4115a9b065206737f3f0"
          ]
        },
        "id": "dxFyOGszpP6j",
        "outputId": "268df6a2-1dcc-4826-e6be-11d681045d37"
      },
      "execution_count": 161,
      "outputs": [
        {
          "output_type": "display_data",
          "data": {
            "text/plain": [
              "interactive(children=(FloatSlider(value=10.0, description='t', max=50.0, min=0.1), Output()), _dom_classes=('w…"
            ],
            "application/vnd.jupyter.widget-view+json": {
              "version_major": 2,
              "version_minor": 0,
              "model_id": "7e7037906ac04b70999dcb583d8480c5"
            }
          },
          "metadata": {}
        },
        {
          "output_type": "execute_result",
          "data": {
            "text/plain": [
              "<function __main__.plot_disk_luminosity(t: float)>"
            ]
          },
          "metadata": {},
          "execution_count": 161
        }
      ]
    },
    {
      "cell_type": "markdown",
      "source": [
        "The next cell begins calculations for the thermal spectrum of the disk, assuming it is an isothermal blackbody; optically thick. A disk temperature profile is derived from these conditions, and from this the spectrum emitted will be calcualted and plotted here."
      ],
      "metadata": {
        "id": "1OqpKA7PWRHC"
      }
    },
    {
      "cell_type": "code",
      "source": [
        "def Mdot_acc(M, edd_frac):\n",
        "  return edd_frac * M /tsal\n",
        "\n",
        "def Risco(M):\n",
        "  return 12 * G * M /c**2"
      ],
      "metadata": {
        "id": "66QiKYVAE2km"
      },
      "execution_count": 162,
      "outputs": []
    },
    {
      "cell_type": "code",
      "source": [
        "def disk_temperature(R: float, R0: float, M: float, Mdot: float):\n",
        "    \"\"\"\n",
        "    The surface temperature of a steady-state disk with inner radius R0\n",
        "    This is Eqn. 3.23 of Pringle (1981).\n",
        "    \"\"\"\n",
        "    return Tstar(R0, M, Mdot) * ((R0 / R) ** 3 * (1 - sqrt(R0 / R))) ** 0.25\n",
        "\n",
        "\n",
        "def Tstar(R0: float, M: float, Mdot: float):\n",
        "    \"\"\"\n",
        "    The temperature of the inner edge of a steady-state accretion disk\n",
        "    This equation appears below Eqn. 3.23 of Pringle (1981); note there is a\n",
        "    typo in the paper: the R is missing a subscript \"star\".\n",
        "    \"\"\"\n",
        "    return (3 * G * M * Mdot / (8 * np.pi * R0**3 * sb)) ** 0.25\n",
        "\n",
        "\n",
        "def planck_spectrum(T, nu):\n",
        "    \"\"\"\n",
        "    The specific intensity of a blackbody of temperature T, and frequency nu.\n",
        "    \"\"\"\n",
        "    return 2 * h * nu**3 / c**2 / (exp(h * nu / (k * T)) - 1)\n"
      ],
      "metadata": {
        "id": "sBgEGWv6TdyG"
      },
      "execution_count": 163,
      "outputs": []
    },
    {
      "cell_type": "code",
      "source": [
        "def disk_spectrum(M: float, Mdot: float, R0: float, R, delta: float = 0.1):\n",
        "    \"\"\"\n",
        "    Produce a disk spectrum\n",
        "    Uses a 1st-order integral over disk radius to produce the multi-temperature\n",
        "    BB spectrum of a disk, which extends from R0 to Rout.\n",
        "    Note: the frequency range is currently hard-coded. This should be fixed so\n",
        "    that it has a sensible default range of frequencies.\n",
        "    Note: multiply the result by pi to obtain the isotropic specific power\n",
        "    Inu = integral of 2 * pi * R * dR * Bnu(T(R), nu) from R0 -> Rout\n",
        "    \"\"\"\n",
        "\n",
        "    nu_v = logspace(12, 19, 999)\n",
        "    nu_c = 0.5 * (nu_v[1:] + nu_v[:-1])\n",
        "    R0 = Risco(M)\n",
        "    Rout = 1000\n",
        "    Inu = zeros_like(nu_c)\n",
        "\n",
        "    if Rout < R0:\n",
        "      print('Warning: Rout < R1, the spectrum is zero')\n",
        "\n",
        "    while R < Rout:\n",
        "      dR = R * delta\n",
        "      Inu += 2 * pi * R * dR * planck_spectrum(disk_temperature(R, R0, M, Mdot), nu_c)\n",
        "      R *= 1.0 + delta\n",
        "    return nu_v, Inu\n",
        "\n",
        "def plot_disk_spectrum(M, pref_acc, R, t):\n",
        "    delta=0.001\n",
        "    edd_frac = 1 / (1 + pref_acc)\n",
        "    Mb = M * Msun # Mass of the central black hole in grams\n",
        "    Mdot = Mdot_acc(Mb, 1.0) # Accretion rate of the black hole in g/s\n",
        "\n",
        "    nu_v, Inu = disk_spectrum(M, Mdot, Risco(M), R, delta=0.001)\n",
        "    nu_c = 0.5 * (nu_v[1:] + nu_v[:-1])\n",
        "    Snu = pi * Inu * nu_c\n",
        "\n",
        "    fig = plt.figure()\n",
        "    ax = fig.add_subplot(111)\n",
        "\n",
        "    ax.plot(h * nu_c * erg, Snu, linewidth=1)\n",
        "    ax.set_xscale('log')\n",
        "    ax.set_yscale('log')\n",
        "    #ax.set_ylim(1e39, 5e45)\n",
        "    #ax.set_xlim(0.1, 8000)\n",
        "    ax.set_xlabel(r'$h \\nu \\rm{[eV]}$')\n",
        "    ax.set_ylabel(r'$S_{\\nu} \\rm{[erg / s]}$')\n",
        "    ax.legend(loc='lower left')\n",
        "    fig.tight_layout(pad=0.1)\n",
        "    plt.show()"
      ],
      "metadata": {
        "id": "u-IB8grMY4h6"
      },
      "execution_count": 164,
      "outputs": []
    },
    {
      "cell_type": "code",
      "source": [
        "interact(plot_disk_spectrum,\n",
        "  M = widgets.FloatSlider(value=1e7, min=1e4, max = 1e8, step=1e4, descriptions='Disk Mass [Msun]:', disabled=False),\n",
        "  pref_acc = widgets.FloatSlider(value=10, min=1, max = 10, step=0.1, descriptions='Preferrential Accretion:', disabled=False),\n",
        "  R = widgets.FloatSlider(value=10, min=1, max = 100, step=0.1, descriptions='Disk Thickness:'),\n",
        "  t = widgets.FloatSlider(value=10.0, min=0.1, max = 10000, step=0.1, descriptions='time', disabled=False))"
      ],
      "metadata": {
        "colab": {
          "base_uri": "https://localhost:8080/",
          "height": 729,
          "referenced_widgets": [
            "2a8d834c0de14a2785c46ce44058472e",
            "c7bef6d72eac4829aaebdd5719e12466",
            "356c799b917142a883ee52f6fdb305bf",
            "1e7af69fcefe43f3985d5af6feee7aa1",
            "cc13678e842f46cc9d6672e50d210183",
            "d2cd325bce45403c83adc25d2f655039",
            "8ae755bcd78244bab4dfd40a52b74b75",
            "c824e1940d84426c894a8a23276e282d",
            "1a971866ca9e4702b1b0143f22ad5772",
            "c924de7bd5244e09808558d776030d1e",
            "62b07b83924d40498b190a7a8cce3c83",
            "4aae1694fac44c26bb1d4f3448db7baf",
            "eab7bc9cf93f42c18fb2ff180364c140",
            "1286f6d4c036403c854f663c00f79de9",
            "27115bcef22c4e86b17c81a0fdc3d4e8",
            "1419c3a8fc164e848f71faaae3742752"
          ]
        },
        "id": "lQrTbXlSliU1",
        "outputId": "72d9e8a0-a17b-4e31-f25c-45633e047799"
      },
      "execution_count": 165,
      "outputs": [
        {
          "output_type": "display_data",
          "data": {
            "text/plain": [
              "interactive(children=(FloatSlider(value=10000000.0, description='M', max=100000000.0, min=10000.0, step=10000.…"
            ],
            "application/vnd.jupyter.widget-view+json": {
              "version_major": 2,
              "version_minor": 0,
              "model_id": "2a8d834c0de14a2785c46ce44058472e"
            }
          },
          "metadata": {}
        },
        {
          "output_type": "execute_result",
          "data": {
            "text/plain": [
              "<function __main__.plot_disk_spectrum(M, pref_acc, R, t)>"
            ]
          },
          "metadata": {},
          "execution_count": 165
        }
      ]
    },
    {
      "cell_type": "markdown",
      "source": [
        "To represent how the spectrum evolves over time, I will next plot the spectrum at key times during the spreading of the gaseous annulus overlayed by varying the time parameter of the disk's surface density. I'm considering adding a widget on a seperate spectrum plot as well to vary the time."
      ],
      "metadata": {
        "id": "ogbMgdjaYB6D"
      }
    }
  ]
}