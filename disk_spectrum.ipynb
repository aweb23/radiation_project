{
  "nbformat": 4,
  "nbformat_minor": 0,
  "metadata": {
    "colab": {
      "provenance": []
    },
    "kernelspec": {
      "name": "python3",
      "display_name": "Python 3"
    },
    "language_info": {
      "name": "python"
    },
    "widgets": {
      "application/vnd.jupyter.widget-state+json": {
        "97b4f75e5a594d73a38e8a2f4adcee43": {
          "model_module": "@jupyter-widgets/controls",
          "model_name": "VBoxModel",
          "model_module_version": "1.5.0",
          "state": {
            "_dom_classes": [
              "widget-interact"
            ],
            "_model_module": "@jupyter-widgets/controls",
            "_model_module_version": "1.5.0",
            "_model_name": "VBoxModel",
            "_view_count": null,
            "_view_module": "@jupyter-widgets/controls",
            "_view_module_version": "1.5.0",
            "_view_name": "VBoxView",
            "box_style": "",
            "children": [
              "IPY_MODEL_25fb286b7a33492da1f7bd884e130086",
              "IPY_MODEL_e4f38312064343f4bd71f83624a4a1a0"
            ],
            "layout": "IPY_MODEL_8acf5f714dbe4a658ae6de360ea60953"
          }
        },
        "25fb286b7a33492da1f7bd884e130086": {
          "model_module": "@jupyter-widgets/controls",
          "model_name": "FloatSliderModel",
          "model_module_version": "1.5.0",
          "state": {
            "_dom_classes": [],
            "_model_module": "@jupyter-widgets/controls",
            "_model_module_version": "1.5.0",
            "_model_name": "FloatSliderModel",
            "_view_count": null,
            "_view_module": "@jupyter-widgets/controls",
            "_view_module_version": "1.5.0",
            "_view_name": "FloatSliderView",
            "continuous_update": true,
            "description": "t",
            "description_tooltip": null,
            "disabled": false,
            "layout": "IPY_MODEL_810760e7ddcf4d31842648a28e1c1c9e",
            "max": 50,
            "min": 0.1,
            "orientation": "horizontal",
            "readout": true,
            "readout_format": ".2f",
            "step": 0.1,
            "style": "IPY_MODEL_c0dc2b0fad3d42ccbee0e4ae4dcc203e",
            "value": 10
          }
        },
        "e4f38312064343f4bd71f83624a4a1a0": {
          "model_module": "@jupyter-widgets/output",
          "model_name": "OutputModel",
          "model_module_version": "1.0.0",
          "state": {
            "_dom_classes": [],
            "_model_module": "@jupyter-widgets/output",
            "_model_module_version": "1.0.0",
            "_model_name": "OutputModel",
            "_view_count": null,
            "_view_module": "@jupyter-widgets/output",
            "_view_module_version": "1.0.0",
            "_view_name": "OutputView",
            "layout": "IPY_MODEL_fb77f38471504efd8835afb56968a23f",
            "msg_id": "",
            "outputs": [
              {
                "output_type": "stream",
                "name": "stderr",
                "text": [
                  "WARNING:matplotlib.legend:No artists with labels found to put in legend.  Note that artists whose label start with an underscore are ignored when legend() is called with no argument.\n"
                ]
              },
              {
                "output_type": "display_data",
                "data": {
                  "text/plain": "<Figure size 640x480 with 1 Axes>",
                  "image/png": "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\n"
                },
                "metadata": {}
              }
            ]
          }
        },
        "8acf5f714dbe4a658ae6de360ea60953": {
          "model_module": "@jupyter-widgets/base",
          "model_name": "LayoutModel",
          "model_module_version": "1.2.0",
          "state": {
            "_model_module": "@jupyter-widgets/base",
            "_model_module_version": "1.2.0",
            "_model_name": "LayoutModel",
            "_view_count": null,
            "_view_module": "@jupyter-widgets/base",
            "_view_module_version": "1.2.0",
            "_view_name": "LayoutView",
            "align_content": null,
            "align_items": null,
            "align_self": null,
            "border": null,
            "bottom": null,
            "display": null,
            "flex": null,
            "flex_flow": null,
            "grid_area": null,
            "grid_auto_columns": null,
            "grid_auto_flow": null,
            "grid_auto_rows": null,
            "grid_column": null,
            "grid_gap": null,
            "grid_row": null,
            "grid_template_areas": null,
            "grid_template_columns": null,
            "grid_template_rows": null,
            "height": null,
            "justify_content": null,
            "justify_items": null,
            "left": null,
            "margin": null,
            "max_height": null,
            "max_width": null,
            "min_height": null,
            "min_width": null,
            "object_fit": null,
            "object_position": null,
            "order": null,
            "overflow": null,
            "overflow_x": null,
            "overflow_y": null,
            "padding": null,
            "right": null,
            "top": null,
            "visibility": null,
            "width": null
          }
        },
        "810760e7ddcf4d31842648a28e1c1c9e": {
          "model_module": "@jupyter-widgets/base",
          "model_name": "LayoutModel",
          "model_module_version": "1.2.0",
          "state": {
            "_model_module": "@jupyter-widgets/base",
            "_model_module_version": "1.2.0",
            "_model_name": "LayoutModel",
            "_view_count": null,
            "_view_module": "@jupyter-widgets/base",
            "_view_module_version": "1.2.0",
            "_view_name": "LayoutView",
            "align_content": null,
            "align_items": null,
            "align_self": null,
            "border": null,
            "bottom": null,
            "display": null,
            "flex": null,
            "flex_flow": null,
            "grid_area": null,
            "grid_auto_columns": null,
            "grid_auto_flow": null,
            "grid_auto_rows": null,
            "grid_column": null,
            "grid_gap": null,
            "grid_row": null,
            "grid_template_areas": null,
            "grid_template_columns": null,
            "grid_template_rows": null,
            "height": null,
            "justify_content": null,
            "justify_items": null,
            "left": null,
            "margin": null,
            "max_height": null,
            "max_width": null,
            "min_height": null,
            "min_width": null,
            "object_fit": null,
            "object_position": null,
            "order": null,
            "overflow": null,
            "overflow_x": null,
            "overflow_y": null,
            "padding": null,
            "right": null,
            "top": null,
            "visibility": null,
            "width": null
          }
        },
        "c0dc2b0fad3d42ccbee0e4ae4dcc203e": {
          "model_module": "@jupyter-widgets/controls",
          "model_name": "SliderStyleModel",
          "model_module_version": "1.5.0",
          "state": {
            "_model_module": "@jupyter-widgets/controls",
            "_model_module_version": "1.5.0",
            "_model_name": "SliderStyleModel",
            "_view_count": null,
            "_view_module": "@jupyter-widgets/base",
            "_view_module_version": "1.2.0",
            "_view_name": "StyleView",
            "description_width": "",
            "handle_color": null
          }
        },
        "fb77f38471504efd8835afb56968a23f": {
          "model_module": "@jupyter-widgets/base",
          "model_name": "LayoutModel",
          "model_module_version": "1.2.0",
          "state": {
            "_model_module": "@jupyter-widgets/base",
            "_model_module_version": "1.2.0",
            "_model_name": "LayoutModel",
            "_view_count": null,
            "_view_module": "@jupyter-widgets/base",
            "_view_module_version": "1.2.0",
            "_view_name": "LayoutView",
            "align_content": null,
            "align_items": null,
            "align_self": null,
            "border": null,
            "bottom": null,
            "display": null,
            "flex": null,
            "flex_flow": null,
            "grid_area": null,
            "grid_auto_columns": null,
            "grid_auto_flow": null,
            "grid_auto_rows": null,
            "grid_column": null,
            "grid_gap": null,
            "grid_row": null,
            "grid_template_areas": null,
            "grid_template_columns": null,
            "grid_template_rows": null,
            "height": null,
            "justify_content": null,
            "justify_items": null,
            "left": null,
            "margin": null,
            "max_height": null,
            "max_width": null,
            "min_height": null,
            "min_width": null,
            "object_fit": null,
            "object_position": null,
            "order": null,
            "overflow": null,
            "overflow_x": null,
            "overflow_y": null,
            "padding": null,
            "right": null,
            "top": null,
            "visibility": null,
            "width": null
          }
        },
        "3ab13fcd6c51454ba41ff19063405990": {
          "model_module": "@jupyter-widgets/controls",
          "model_name": "VBoxModel",
          "model_module_version": "1.5.0",
          "state": {
            "_dom_classes": [
              "widget-interact"
            ],
            "_model_module": "@jupyter-widgets/controls",
            "_model_module_version": "1.5.0",
            "_model_name": "VBoxModel",
            "_view_count": null,
            "_view_module": "@jupyter-widgets/controls",
            "_view_module_version": "1.5.0",
            "_view_name": "VBoxView",
            "box_style": "",
            "children": [
              "IPY_MODEL_0fd4a9706607483181ca3ec9337640c4",
              "IPY_MODEL_e8cfbc2bcf4f4452844183e7d4d95573"
            ],
            "layout": "IPY_MODEL_3f692ab47cb3412b8494443314fae31d"
          }
        },
        "0fd4a9706607483181ca3ec9337640c4": {
          "model_module": "@jupyter-widgets/controls",
          "model_name": "FloatSliderModel",
          "model_module_version": "1.5.0",
          "state": {
            "_dom_classes": [],
            "_model_module": "@jupyter-widgets/controls",
            "_model_module_version": "1.5.0",
            "_model_name": "FloatSliderModel",
            "_view_count": null,
            "_view_module": "@jupyter-widgets/controls",
            "_view_module_version": "1.5.0",
            "_view_name": "FloatSliderView",
            "continuous_update": true,
            "description": "t",
            "description_tooltip": null,
            "disabled": false,
            "layout": "IPY_MODEL_5d5df8df8fd44b4d8b6703ea85922a5e",
            "max": 50,
            "min": 0.1,
            "orientation": "horizontal",
            "readout": true,
            "readout_format": ".2f",
            "step": 0.1,
            "style": "IPY_MODEL_16667b0b9e2948e7a3db940c75fd62e9",
            "value": 10
          }
        },
        "e8cfbc2bcf4f4452844183e7d4d95573": {
          "model_module": "@jupyter-widgets/output",
          "model_name": "OutputModel",
          "model_module_version": "1.0.0",
          "state": {
            "_dom_classes": [],
            "_model_module": "@jupyter-widgets/output",
            "_model_module_version": "1.0.0",
            "_model_name": "OutputModel",
            "_view_count": null,
            "_view_module": "@jupyter-widgets/output",
            "_view_module_version": "1.0.0",
            "_view_name": "OutputView",
            "layout": "IPY_MODEL_fc03b48a9aaf4fce83c86e76e7bab5af",
            "msg_id": "",
            "outputs": [
              {
                "output_type": "display_data",
                "data": {
                  "text/plain": "<Figure size 640x480 with 1 Axes>",
                  "image/png": "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\n"
                },
                "metadata": {}
              }
            ]
          }
        },
        "3f692ab47cb3412b8494443314fae31d": {
          "model_module": "@jupyter-widgets/base",
          "model_name": "LayoutModel",
          "model_module_version": "1.2.0",
          "state": {
            "_model_module": "@jupyter-widgets/base",
            "_model_module_version": "1.2.0",
            "_model_name": "LayoutModel",
            "_view_count": null,
            "_view_module": "@jupyter-widgets/base",
            "_view_module_version": "1.2.0",
            "_view_name": "LayoutView",
            "align_content": null,
            "align_items": null,
            "align_self": null,
            "border": null,
            "bottom": null,
            "display": null,
            "flex": null,
            "flex_flow": null,
            "grid_area": null,
            "grid_auto_columns": null,
            "grid_auto_flow": null,
            "grid_auto_rows": null,
            "grid_column": null,
            "grid_gap": null,
            "grid_row": null,
            "grid_template_areas": null,
            "grid_template_columns": null,
            "grid_template_rows": null,
            "height": null,
            "justify_content": null,
            "justify_items": null,
            "left": null,
            "margin": null,
            "max_height": null,
            "max_width": null,
            "min_height": null,
            "min_width": null,
            "object_fit": null,
            "object_position": null,
            "order": null,
            "overflow": null,
            "overflow_x": null,
            "overflow_y": null,
            "padding": null,
            "right": null,
            "top": null,
            "visibility": null,
            "width": null
          }
        },
        "5d5df8df8fd44b4d8b6703ea85922a5e": {
          "model_module": "@jupyter-widgets/base",
          "model_name": "LayoutModel",
          "model_module_version": "1.2.0",
          "state": {
            "_model_module": "@jupyter-widgets/base",
            "_model_module_version": "1.2.0",
            "_model_name": "LayoutModel",
            "_view_count": null,
            "_view_module": "@jupyter-widgets/base",
            "_view_module_version": "1.2.0",
            "_view_name": "LayoutView",
            "align_content": null,
            "align_items": null,
            "align_self": null,
            "border": null,
            "bottom": null,
            "display": null,
            "flex": null,
            "flex_flow": null,
            "grid_area": null,
            "grid_auto_columns": null,
            "grid_auto_flow": null,
            "grid_auto_rows": null,
            "grid_column": null,
            "grid_gap": null,
            "grid_row": null,
            "grid_template_areas": null,
            "grid_template_columns": null,
            "grid_template_rows": null,
            "height": null,
            "justify_content": null,
            "justify_items": null,
            "left": null,
            "margin": null,
            "max_height": null,
            "max_width": null,
            "min_height": null,
            "min_width": null,
            "object_fit": null,
            "object_position": null,
            "order": null,
            "overflow": null,
            "overflow_x": null,
            "overflow_y": null,
            "padding": null,
            "right": null,
            "top": null,
            "visibility": null,
            "width": null
          }
        },
        "16667b0b9e2948e7a3db940c75fd62e9": {
          "model_module": "@jupyter-widgets/controls",
          "model_name": "SliderStyleModel",
          "model_module_version": "1.5.0",
          "state": {
            "_model_module": "@jupyter-widgets/controls",
            "_model_module_version": "1.5.0",
            "_model_name": "SliderStyleModel",
            "_view_count": null,
            "_view_module": "@jupyter-widgets/base",
            "_view_module_version": "1.2.0",
            "_view_name": "StyleView",
            "description_width": "",
            "handle_color": null
          }
        },
        "fc03b48a9aaf4fce83c86e76e7bab5af": {
          "model_module": "@jupyter-widgets/base",
          "model_name": "LayoutModel",
          "model_module_version": "1.2.0",
          "state": {
            "_model_module": "@jupyter-widgets/base",
            "_model_module_version": "1.2.0",
            "_model_name": "LayoutModel",
            "_view_count": null,
            "_view_module": "@jupyter-widgets/base",
            "_view_module_version": "1.2.0",
            "_view_name": "LayoutView",
            "align_content": null,
            "align_items": null,
            "align_self": null,
            "border": null,
            "bottom": null,
            "display": null,
            "flex": null,
            "flex_flow": null,
            "grid_area": null,
            "grid_auto_columns": null,
            "grid_auto_flow": null,
            "grid_auto_rows": null,
            "grid_column": null,
            "grid_gap": null,
            "grid_row": null,
            "grid_template_areas": null,
            "grid_template_columns": null,
            "grid_template_rows": null,
            "height": null,
            "justify_content": null,
            "justify_items": null,
            "left": null,
            "margin": null,
            "max_height": null,
            "max_width": null,
            "min_height": null,
            "min_width": null,
            "object_fit": null,
            "object_position": null,
            "order": null,
            "overflow": null,
            "overflow_x": null,
            "overflow_y": null,
            "padding": null,
            "right": null,
            "top": null,
            "visibility": null,
            "width": null
          }
        },
        "3b912bcf2f4e47cf819c9d86a8f9d7ff": {
          "model_module": "@jupyter-widgets/controls",
          "model_name": "VBoxModel",
          "model_module_version": "1.5.0",
          "state": {
            "_dom_classes": [
              "widget-interact"
            ],
            "_model_module": "@jupyter-widgets/controls",
            "_model_module_version": "1.5.0",
            "_model_name": "VBoxModel",
            "_view_count": null,
            "_view_module": "@jupyter-widgets/controls",
            "_view_module_version": "1.5.0",
            "_view_name": "VBoxView",
            "box_style": "",
            "children": [
              "IPY_MODEL_0188965017d7446eb7d4d8bd34e7dcd3",
              "IPY_MODEL_ef809b79dabd4b0d984996eb2dd4c7b7",
              "IPY_MODEL_78f04db420e94dd695e2d38b47e7979d",
              "IPY_MODEL_d0e1e57aed224042bd71beb76d52aa61",
              "IPY_MODEL_4073500b7c0a4d2fa6888671c24224c3"
            ],
            "layout": "IPY_MODEL_28c4ce59fc8e4574b1a46f75a43f9f6d"
          }
        },
        "0188965017d7446eb7d4d8bd34e7dcd3": {
          "model_module": "@jupyter-widgets/controls",
          "model_name": "FloatSliderModel",
          "model_module_version": "1.5.0",
          "state": {
            "_dom_classes": [],
            "_model_module": "@jupyter-widgets/controls",
            "_model_module_version": "1.5.0",
            "_model_name": "FloatSliderModel",
            "_view_count": null,
            "_view_module": "@jupyter-widgets/controls",
            "_view_module_version": "1.5.0",
            "_view_name": "FloatSliderView",
            "continuous_update": true,
            "description": "M",
            "description_tooltip": null,
            "disabled": false,
            "layout": "IPY_MODEL_c775950ca61e48c2a93d3108e51253fd",
            "max": 100000000,
            "min": 1000000,
            "orientation": "horizontal",
            "readout": true,
            "readout_format": ".2f",
            "step": 10000,
            "style": "IPY_MODEL_4c50d7f81b194c4ca3e25369361d9e22",
            "value": 14090000
          }
        },
        "ef809b79dabd4b0d984996eb2dd4c7b7": {
          "model_module": "@jupyter-widgets/controls",
          "model_name": "FloatSliderModel",
          "model_module_version": "1.5.0",
          "state": {
            "_dom_classes": [],
            "_model_module": "@jupyter-widgets/controls",
            "_model_module_version": "1.5.0",
            "_model_name": "FloatSliderModel",
            "_view_count": null,
            "_view_module": "@jupyter-widgets/controls",
            "_view_module_version": "1.5.0",
            "_view_name": "FloatSliderView",
            "continuous_update": true,
            "description": "pref_acc",
            "description_tooltip": null,
            "disabled": false,
            "layout": "IPY_MODEL_9d4f707c9b6e4a91a898cf746ec892f5",
            "max": 10,
            "min": 1,
            "orientation": "horizontal",
            "readout": true,
            "readout_format": ".2f",
            "step": 0.1,
            "style": "IPY_MODEL_23488c818353439091ddcc5a92928634",
            "value": 10
          }
        },
        "78f04db420e94dd695e2d38b47e7979d": {
          "model_module": "@jupyter-widgets/controls",
          "model_name": "FloatSliderModel",
          "model_module_version": "1.5.0",
          "state": {
            "_dom_classes": [],
            "_model_module": "@jupyter-widgets/controls",
            "_model_module_version": "1.5.0",
            "_model_name": "FloatSliderModel",
            "_view_count": null,
            "_view_module": "@jupyter-widgets/controls",
            "_view_module_version": "1.5.0",
            "_view_name": "FloatSliderView",
            "continuous_update": true,
            "description": "R",
            "description_tooltip": null,
            "disabled": false,
            "layout": "IPY_MODEL_a215dd17c4874482a54a3b04efb69028",
            "max": 100,
            "min": 1,
            "orientation": "horizontal",
            "readout": true,
            "readout_format": ".2f",
            "step": 0.1,
            "style": "IPY_MODEL_33d8e314949942a5b8f087f5dd02ccec",
            "value": 10
          }
        },
        "d0e1e57aed224042bd71beb76d52aa61": {
          "model_module": "@jupyter-widgets/controls",
          "model_name": "FloatSliderModel",
          "model_module_version": "1.5.0",
          "state": {
            "_dom_classes": [],
            "_model_module": "@jupyter-widgets/controls",
            "_model_module_version": "1.5.0",
            "_model_name": "FloatSliderModel",
            "_view_count": null,
            "_view_module": "@jupyter-widgets/controls",
            "_view_module_version": "1.5.0",
            "_view_name": "FloatSliderView",
            "continuous_update": true,
            "description": "t",
            "description_tooltip": null,
            "disabled": false,
            "layout": "IPY_MODEL_7bd9be9d91744154a7617117563da8a6",
            "max": 10000,
            "min": 0.1,
            "orientation": "horizontal",
            "readout": true,
            "readout_format": ".2f",
            "step": 0.1,
            "style": "IPY_MODEL_65fda35473234c91a0c1ab7176974c2b",
            "value": 10
          }
        },
        "4073500b7c0a4d2fa6888671c24224c3": {
          "model_module": "@jupyter-widgets/output",
          "model_name": "OutputModel",
          "model_module_version": "1.0.0",
          "state": {
            "_dom_classes": [],
            "_model_module": "@jupyter-widgets/output",
            "_model_module_version": "1.0.0",
            "_model_name": "OutputModel",
            "_view_count": null,
            "_view_module": "@jupyter-widgets/output",
            "_view_module_version": "1.0.0",
            "_view_name": "OutputView",
            "layout": "IPY_MODEL_285d8b957d234c1eb39516b6c2856c0e",
            "msg_id": "",
            "outputs": [
              {
                "output_type": "stream",
                "name": "stderr",
                "text": [
                  "<ipython-input-38-c18b762e1a6d>:21: RuntimeWarning: overflow encountered in exp\n",
                  "  return 2 * h * nu**3 / c**2 / (exp(h * nu / (k * T)) - 1)\n"
                ]
              },
              {
                "output_type": "stream",
                "name": "stderr",
                "text": [
                  "WARNING:matplotlib.legend:No artists with labels found to put in legend.  Note that artists whose label start with an underscore are ignored when legend() is called with no argument.\n"
                ]
              },
              {
                "output_type": "display_data",
                "data": {
                  "text/plain": "<Figure size 640x480 with 1 Axes>",
                  "image/png": "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\n"
                },
                "metadata": {}
              }
            ]
          }
        },
        "28c4ce59fc8e4574b1a46f75a43f9f6d": {
          "model_module": "@jupyter-widgets/base",
          "model_name": "LayoutModel",
          "model_module_version": "1.2.0",
          "state": {
            "_model_module": "@jupyter-widgets/base",
            "_model_module_version": "1.2.0",
            "_model_name": "LayoutModel",
            "_view_count": null,
            "_view_module": "@jupyter-widgets/base",
            "_view_module_version": "1.2.0",
            "_view_name": "LayoutView",
            "align_content": null,
            "align_items": null,
            "align_self": null,
            "border": null,
            "bottom": null,
            "display": null,
            "flex": null,
            "flex_flow": null,
            "grid_area": null,
            "grid_auto_columns": null,
            "grid_auto_flow": null,
            "grid_auto_rows": null,
            "grid_column": null,
            "grid_gap": null,
            "grid_row": null,
            "grid_template_areas": null,
            "grid_template_columns": null,
            "grid_template_rows": null,
            "height": null,
            "justify_content": null,
            "justify_items": null,
            "left": null,
            "margin": null,
            "max_height": null,
            "max_width": null,
            "min_height": null,
            "min_width": null,
            "object_fit": null,
            "object_position": null,
            "order": null,
            "overflow": null,
            "overflow_x": null,
            "overflow_y": null,
            "padding": null,
            "right": null,
            "top": null,
            "visibility": null,
            "width": null
          }
        },
        "c775950ca61e48c2a93d3108e51253fd": {
          "model_module": "@jupyter-widgets/base",
          "model_name": "LayoutModel",
          "model_module_version": "1.2.0",
          "state": {
            "_model_module": "@jupyter-widgets/base",
            "_model_module_version": "1.2.0",
            "_model_name": "LayoutModel",
            "_view_count": null,
            "_view_module": "@jupyter-widgets/base",
            "_view_module_version": "1.2.0",
            "_view_name": "LayoutView",
            "align_content": null,
            "align_items": null,
            "align_self": null,
            "border": null,
            "bottom": null,
            "display": null,
            "flex": null,
            "flex_flow": null,
            "grid_area": null,
            "grid_auto_columns": null,
            "grid_auto_flow": null,
            "grid_auto_rows": null,
            "grid_column": null,
            "grid_gap": null,
            "grid_row": null,
            "grid_template_areas": null,
            "grid_template_columns": null,
            "grid_template_rows": null,
            "height": null,
            "justify_content": null,
            "justify_items": null,
            "left": null,
            "margin": null,
            "max_height": null,
            "max_width": null,
            "min_height": null,
            "min_width": null,
            "object_fit": null,
            "object_position": null,
            "order": null,
            "overflow": null,
            "overflow_x": null,
            "overflow_y": null,
            "padding": null,
            "right": null,
            "top": null,
            "visibility": null,
            "width": null
          }
        },
        "4c50d7f81b194c4ca3e25369361d9e22": {
          "model_module": "@jupyter-widgets/controls",
          "model_name": "SliderStyleModel",
          "model_module_version": "1.5.0",
          "state": {
            "_model_module": "@jupyter-widgets/controls",
            "_model_module_version": "1.5.0",
            "_model_name": "SliderStyleModel",
            "_view_count": null,
            "_view_module": "@jupyter-widgets/base",
            "_view_module_version": "1.2.0",
            "_view_name": "StyleView",
            "description_width": "",
            "handle_color": null
          }
        },
        "9d4f707c9b6e4a91a898cf746ec892f5": {
          "model_module": "@jupyter-widgets/base",
          "model_name": "LayoutModel",
          "model_module_version": "1.2.0",
          "state": {
            "_model_module": "@jupyter-widgets/base",
            "_model_module_version": "1.2.0",
            "_model_name": "LayoutModel",
            "_view_count": null,
            "_view_module": "@jupyter-widgets/base",
            "_view_module_version": "1.2.0",
            "_view_name": "LayoutView",
            "align_content": null,
            "align_items": null,
            "align_self": null,
            "border": null,
            "bottom": null,
            "display": null,
            "flex": null,
            "flex_flow": null,
            "grid_area": null,
            "grid_auto_columns": null,
            "grid_auto_flow": null,
            "grid_auto_rows": null,
            "grid_column": null,
            "grid_gap": null,
            "grid_row": null,
            "grid_template_areas": null,
            "grid_template_columns": null,
            "grid_template_rows": null,
            "height": null,
            "justify_content": null,
            "justify_items": null,
            "left": null,
            "margin": null,
            "max_height": null,
            "max_width": null,
            "min_height": null,
            "min_width": null,
            "object_fit": null,
            "object_position": null,
            "order": null,
            "overflow": null,
            "overflow_x": null,
            "overflow_y": null,
            "padding": null,
            "right": null,
            "top": null,
            "visibility": null,
            "width": null
          }
        },
        "23488c818353439091ddcc5a92928634": {
          "model_module": "@jupyter-widgets/controls",
          "model_name": "SliderStyleModel",
          "model_module_version": "1.5.0",
          "state": {
            "_model_module": "@jupyter-widgets/controls",
            "_model_module_version": "1.5.0",
            "_model_name": "SliderStyleModel",
            "_view_count": null,
            "_view_module": "@jupyter-widgets/base",
            "_view_module_version": "1.2.0",
            "_view_name": "StyleView",
            "description_width": "",
            "handle_color": null
          }
        },
        "a215dd17c4874482a54a3b04efb69028": {
          "model_module": "@jupyter-widgets/base",
          "model_name": "LayoutModel",
          "model_module_version": "1.2.0",
          "state": {
            "_model_module": "@jupyter-widgets/base",
            "_model_module_version": "1.2.0",
            "_model_name": "LayoutModel",
            "_view_count": null,
            "_view_module": "@jupyter-widgets/base",
            "_view_module_version": "1.2.0",
            "_view_name": "LayoutView",
            "align_content": null,
            "align_items": null,
            "align_self": null,
            "border": null,
            "bottom": null,
            "display": null,
            "flex": null,
            "flex_flow": null,
            "grid_area": null,
            "grid_auto_columns": null,
            "grid_auto_flow": null,
            "grid_auto_rows": null,
            "grid_column": null,
            "grid_gap": null,
            "grid_row": null,
            "grid_template_areas": null,
            "grid_template_columns": null,
            "grid_template_rows": null,
            "height": null,
            "justify_content": null,
            "justify_items": null,
            "left": null,
            "margin": null,
            "max_height": null,
            "max_width": null,
            "min_height": null,
            "min_width": null,
            "object_fit": null,
            "object_position": null,
            "order": null,
            "overflow": null,
            "overflow_x": null,
            "overflow_y": null,
            "padding": null,
            "right": null,
            "top": null,
            "visibility": null,
            "width": null
          }
        },
        "33d8e314949942a5b8f087f5dd02ccec": {
          "model_module": "@jupyter-widgets/controls",
          "model_name": "SliderStyleModel",
          "model_module_version": "1.5.0",
          "state": {
            "_model_module": "@jupyter-widgets/controls",
            "_model_module_version": "1.5.0",
            "_model_name": "SliderStyleModel",
            "_view_count": null,
            "_view_module": "@jupyter-widgets/base",
            "_view_module_version": "1.2.0",
            "_view_name": "StyleView",
            "description_width": "",
            "handle_color": null
          }
        },
        "7bd9be9d91744154a7617117563da8a6": {
          "model_module": "@jupyter-widgets/base",
          "model_name": "LayoutModel",
          "model_module_version": "1.2.0",
          "state": {
            "_model_module": "@jupyter-widgets/base",
            "_model_module_version": "1.2.0",
            "_model_name": "LayoutModel",
            "_view_count": null,
            "_view_module": "@jupyter-widgets/base",
            "_view_module_version": "1.2.0",
            "_view_name": "LayoutView",
            "align_content": null,
            "align_items": null,
            "align_self": null,
            "border": null,
            "bottom": null,
            "display": null,
            "flex": null,
            "flex_flow": null,
            "grid_area": null,
            "grid_auto_columns": null,
            "grid_auto_flow": null,
            "grid_auto_rows": null,
            "grid_column": null,
            "grid_gap": null,
            "grid_row": null,
            "grid_template_areas": null,
            "grid_template_columns": null,
            "grid_template_rows": null,
            "height": null,
            "justify_content": null,
            "justify_items": null,
            "left": null,
            "margin": null,
            "max_height": null,
            "max_width": null,
            "min_height": null,
            "min_width": null,
            "object_fit": null,
            "object_position": null,
            "order": null,
            "overflow": null,
            "overflow_x": null,
            "overflow_y": null,
            "padding": null,
            "right": null,
            "top": null,
            "visibility": null,
            "width": null
          }
        },
        "65fda35473234c91a0c1ab7176974c2b": {
          "model_module": "@jupyter-widgets/controls",
          "model_name": "SliderStyleModel",
          "model_module_version": "1.5.0",
          "state": {
            "_model_module": "@jupyter-widgets/controls",
            "_model_module_version": "1.5.0",
            "_model_name": "SliderStyleModel",
            "_view_count": null,
            "_view_module": "@jupyter-widgets/base",
            "_view_module_version": "1.2.0",
            "_view_name": "StyleView",
            "description_width": "",
            "handle_color": null
          }
        },
        "285d8b957d234c1eb39516b6c2856c0e": {
          "model_module": "@jupyter-widgets/base",
          "model_name": "LayoutModel",
          "model_module_version": "1.2.0",
          "state": {
            "_model_module": "@jupyter-widgets/base",
            "_model_module_version": "1.2.0",
            "_model_name": "LayoutModel",
            "_view_count": null,
            "_view_module": "@jupyter-widgets/base",
            "_view_module_version": "1.2.0",
            "_view_name": "LayoutView",
            "align_content": null,
            "align_items": null,
            "align_self": null,
            "border": null,
            "bottom": null,
            "display": null,
            "flex": null,
            "flex_flow": null,
            "grid_area": null,
            "grid_auto_columns": null,
            "grid_auto_flow": null,
            "grid_auto_rows": null,
            "grid_column": null,
            "grid_gap": null,
            "grid_row": null,
            "grid_template_areas": null,
            "grid_template_columns": null,
            "grid_template_rows": null,
            "height": null,
            "justify_content": null,
            "justify_items": null,
            "left": null,
            "margin": null,
            "max_height": null,
            "max_width": null,
            "min_height": null,
            "min_width": null,
            "object_fit": null,
            "object_position": null,
            "order": null,
            "overflow": null,
            "overflow_x": null,
            "overflow_y": null,
            "padding": null,
            "right": null,
            "top": null,
            "visibility": null,
            "width": null
          }
        }
      }
    }
  },
  "cells": [
    {
      "cell_type": "markdown",
      "source": [
        "Introduction: Here I will be constructing a jupyter notebook that will compute the spectral evolution of a spreading\n",
        "annulus of gaseous mass orbiting a central mass, representative of a black hole in this case. The spreading annulus is representative\n",
        "of a one dimensional accretion disk model, and my motivation behind this idea is to\n",
        "understand how accretion disks change over time, both dynamically and in terms of the\n",
        "radiation they emit. The equations are developed and shown from Pringle 1981."
      ],
      "metadata": {
        "id": "ZjJIXwCEN5sI"
      }
    },
    {
      "cell_type": "markdown",
      "source": [
        "This cell will import the necessary libraries such as numpy, scipy (with special functions), and matplotlib, as well as some tools to help visualize how my plots change with certain varied parameters."
      ],
      "metadata": {
        "id": "5MEzJvaCO0Bu"
      }
    },
    {
      "cell_type": "code",
      "source": [
        "import numpy as np\n",
        "from numpy import *\n",
        "import scipy\n",
        "from matplotlib import pyplot as plt\n",
        "from scipy import special\n",
        "from ipywidgets import interact, interactive\n",
        "import ipywidgets as widgets"
      ],
      "metadata": {
        "id": "uhIHr4-BY0TA"
      },
      "execution_count": 24,
      "outputs": []
    },
    {
      "cell_type": "markdown",
      "source": [
        "I now define variables for the physical constants I will be using in cgs units, such as the universal gravitaional constant, the speed of light, the Stefan Boltzman constant, Planck's constant,  and the salpeter time (defined as the timescale for black hole growth assuming accretion does not exceed the Eddington limit)."
      ],
      "metadata": {
        "id": "XjFv03wVGKYg"
      }
    },
    {
      "cell_type": "code",
      "source": [
        "GM = 1.0\n",
        "Rstar = 1.0\n",
        "G = 6.67e-8  # cm^3 g^-1 s^-2\n",
        "Msun = 2e33  # g\n",
        "sb = 5.67e-5  # g s^-3 K^-4: Stefan Boltzman Constant in cgs\n",
        "c = 3e10  # cm s^-1\n",
        "h = 6.626e-27  # ergs s: Planck's Constant in cgs\n",
        "k = 1.38e-16  # ergs K^-1\n",
        "year = 3.15e7 # s\n",
        "tsal = 5e7 * year # s: salpeter time\n",
        "erg = 6.242e11  # eV"
      ],
      "metadata": {
        "id": "3FnQ7OCoCZYa"
      },
      "execution_count": 25,
      "outputs": []
    },
    {
      "cell_type": "markdown",
      "source": [
        "The following few cells will define relatively simple functions of radius to set up the physics of the spreading annulus of gaseous matter in a keplarian orbit."
      ],
      "metadata": {
        "id": "GQYhHPcKP6Qz"
      }
    },
    {
      "cell_type": "markdown",
      "source": [
        "For now, I consider a gaseous disk with a constant kinematic viscosity."
      ],
      "metadata": {
        "id": "dbWJedftXQEY"
      }
    },
    {
      "cell_type": "code",
      "source": [
        "def kinematic_viscosity(R):\n",
        "    return 1e-1\n",
        "\n",
        "\n",
        "def kinematic_viscosity_derivative(R):\n",
        "    return 0.0\n"
      ],
      "metadata": {
        "id": "yvo-yechJCr2"
      },
      "execution_count": 26,
      "outputs": []
    },
    {
      "cell_type": "markdown",
      "source": [
        "Because of the nature of the disk's orbit, the circular velocity of the disk is keplarian, and given by:"
      ],
      "metadata": {
        "id": "P84LtknXZs9h"
      }
    },
    {
      "cell_type": "code",
      "source": [
        "def keplerian_omega_log_derivative(R):\n",
        "    \"\"\"\n",
        "    Return the shear profile d(Omega) / d(log R)\n",
        "    \"\"\"\n",
        "    return -1.5 * sqrt(GM / R**3)\n",
        "\n",
        "\n",
        "def keplerian_omega(R):\n",
        "    return sqrt(GM / R**3)\n"
      ],
      "metadata": {
        "id": "giYZLD7bJIiM"
      },
      "execution_count": 27,
      "outputs": []
    },
    {
      "cell_type": "markdown",
      "source": [
        "The specific angular momentum of the disk is:"
      ],
      "metadata": {
        "id": "oTmq20cOaqYi"
      }
    },
    {
      "cell_type": "code",
      "source": [
        "def specific_angular_momentum(R):\n",
        "    return sqrt(GM * R)\n",
        "\n",
        "\n",
        "def specific_angular_momentum_derivative(R):\n",
        "    return 0.5 * sqrt(GM / R)\n"
      ],
      "metadata": {
        "id": "YN622saWJQxH"
      },
      "execution_count": 28,
      "outputs": []
    },
    {
      "cell_type": "markdown",
      "source": [
        "The surface density at one single radius in the disk is:"
      ],
      "metadata": {
        "id": "JINtwZgwa3a6"
      }
    },
    {
      "cell_type": "code",
      "source": [
        "def sigma(M, R):\n",
        "    \"\"\"\n",
        "    Return the surface density at a paticular radius\n",
        "    \"\"\"\n",
        "    return M / (pi * diff(R**2))"
      ],
      "metadata": {
        "id": "Gm3Gi7ZgJSZU"
      },
      "execution_count": 29,
      "outputs": []
    },
    {
      "cell_type": "markdown",
      "source": [
        "And the radial velocity of the disk, Vr, can be obtained with the surface density, kinematic viscosity, and the derivatives of the circular velocity and the the angular momentum."
      ],
      "metadata": {
        "id": "6dFsczP5bJdH"
      }
    },
    {
      "cell_type": "code",
      "source": [
        "def radial_velocity(M, R):\n",
        "    \"\"\"\n",
        "    Return the radial gas velocity at the internal zone interfaces\n",
        "\n",
        "    v = d/dR(R g) / (sigma R l')\n",
        "    \"\"\"\n",
        "    Rc = 0.5 * (R[1:] + R[:-1])\n",
        "    s = sigma(M, R)\n",
        "    n = kinematic_viscosity(Rc)\n",
        "    A = keplerian_omega_log_derivative(Rc)\n",
        "    g = Rc * s * n * A\n",
        "    m = specific_angular_momentum_derivative(R[1:-1])\n",
        "    return diff(Rc * g) / diff(Rc) / (0.5 * (s[1:] + s[:-1]) * m * R[1:-1])"
      ],
      "metadata": {
        "id": "G3h874O6Naq7"
      },
      "execution_count": 30,
      "outputs": []
    },
    {
      "cell_type": "markdown",
      "source": [
        "From these relatively simple equations, the analytic solution for the surface density over the whole disk as a function of mass, radius, and time is given by:"
      ],
      "metadata": {
        "id": "Vt81rAqfbkUB"
      }
    },
    {
      "cell_type": "code",
      "source": [
        "def surface_density(M, R, t):\n",
        "    \"\"\"\n",
        "    Return the analytic solution for the surface density\n",
        "    \"\"\"\n",
        "    m = 1.0\n",
        "    Ri = 4.0\n",
        "    n = kinematic_viscosity(R)\n",
        "    tau = 12 * n * (Ri**-2) * t\n",
        "    x = (R/Ri)\n",
        "    return ((m/pi * Ri**2) * tau**(-1) * (x**(-1/4)) * exp(-(1+(x**2))/tau) * scipy.special.iv(0.25, 2 * x / tau))"
      ],
      "metadata": {
        "id": "2qm2yXkANpQ6"
      },
      "execution_count": 31,
      "outputs": []
    },
    {
      "cell_type": "markdown",
      "source": [
        "Using a fluid dynamics approach, the mass flux is calculated by:"
      ],
      "metadata": {
        "id": "dDiAQSIzb56U"
      }
    },
    {
      "cell_type": "code",
      "source": [
        "def godunov_fluxes(M, R, ret_torque=False):\n",
        "    Mdot = 1.0\n",
        "\n",
        "    R0 = R[:-1]\n",
        "    R1 = R[+1:]\n",
        "\n",
        "    Fhat = zeros_like(R)\n",
        "    s = sigma(M, R)\n",
        "    v_hat = radial_velocity(M, R)\n",
        "    s_hat = (v_hat > 0.0) * s[:-1] + (v_hat < 0.0) * s[1:]\n",
        "    Fhat[1:-1] = 2 * pi * R[1:-1] * s_hat * v_hat\n",
        "\n",
        "    # Boundary conditions on the mass flux:\n",
        "    Fhat[+0] = -Mdot\n",
        "    Fhat[-1] = -Mdot\n",
        "\n",
        "    if ret_torque:\n",
        "        A = keplerian_omega_log_derivative(R)\n",
        "        nu = kinematic_viscosity(R)\n",
        "        Ghat = zeros_like(R)\n",
        "        Ghat[1:-1] = -2 * pi * s_hat * (nu * A * R**2)[1:-1]\n",
        "        return Fhat, Fhat * specific_angular_momentum(R), Ghat\n",
        "    else:\n",
        "        return Fhat\n",
        "\n",
        "\n",
        "def time_derivative(M, R):\n",
        "    Fhat = godunov_fluxes(M, R)\n",
        "    return -diff(Fhat)"
      ],
      "metadata": {
        "id": "n9ATThreNr4x"
      },
      "execution_count": 32,
      "outputs": []
    },
    {
      "cell_type": "markdown",
      "source": [
        "Finally, this next cell generates a visual depiction of the surface density of an accretion disk as a function of radius. This model begins as a \"ring\" of gaseous matter spreading into a disk. In accretion disks, most of the mass moves inward near the initial radius as time passes, losing energy and angular momentum. A tail of matter moves out to larger radii in an effort to \"take up\" the angular momentum. This is seen below, as I plot the surfce density as function of radius, with time varied. The effect is not all too dramatic, as in my example it occurs rather quickly, but it is noticeable here.\n",
        "\n",
        "![image.png](data:image/png;base64,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)"
      ],
      "metadata": {
        "id": "aSMzpuSzdD_F"
      }
    },
    {
      "cell_type": "code",
      "source": [
        "def set_plot(M, R, ax=None):\n",
        "    from matplotlib import pyplot as plt\n",
        "\n",
        "    if ax is None:\n",
        "        fig = plt.figure()\n",
        "        ax = fig.add_subplot(111)\n",
        "\n",
        "    R0 = R[:-1]\n",
        "    R1 = R[+1:]\n",
        "    Rc = 0.5 * (R0 + R1)\n",
        "    mdot, Jdot_adv, Jdot_vis = godunov_fluxes(M, R, ret_torque=True)\n",
        "    v = radial_velocity(M, R)\n",
        "    ax.set_xlabel(r\"$R$\")\n",
        "    ax.legend()\n",
        "    return ax\n",
        "\n",
        "\n",
        "def plot_disk_surface_density(t:float):\n",
        "    N = 1000\n",
        "    R = linspace(2.0 * Rstar, 100.0 * Rstar, N + 1)\n",
        "    dR = diff(R)\n",
        "    R0 = R[:-1]\n",
        "    R1 = R[+1:]\n",
        "    Rc = 0.5 * (R0 + R1)\n",
        "    dt = 0.1 * (dR**2 / kinematic_viscosity(R)).min()\n",
        "\n",
        "    tfinal = 50.0\n",
        "    s = 1.0\n",
        "    M = s * pi * (R1**2 - R0**2)\n",
        "    n = 0\n",
        "\n",
        "    fig = plt.figure()\n",
        "    ax = fig.add_subplot(111)\n",
        "\n",
        "    if set_plot:\n",
        "        set_plot(M, R, ax=ax)\n",
        "\n",
        "    s1 = surface_density(M, R, t)\n",
        "    ax.plot(R, s1, \"-o\", mfc=\"none\", label=r\"$\\Sigma$ Numerical\")\n",
        "\n",
        "    while t < tfinal:\n",
        "        K = time_derivative(M, R)\n",
        "        M += K * dt\n",
        "        t += dt\n",
        "        n += 1\n",
        "\n",
        "    if set_plot:\n",
        "        set_plot(M, R, ax=ax)\n",
        "        plt.title('Disk Surface Density')\n",
        "        plt.xlim([0, 20])\n",
        "        plt.ylim([0, 5.0])\n",
        "        plt.show()"
      ],
      "metadata": {
        "id": "weTemHMxY01e"
      },
      "execution_count": 33,
      "outputs": []
    },
    {
      "cell_type": "code",
      "source": [
        "interact(plot_disk_surface_density,\n",
        "  t = widgets.FloatSlider(value=10.0, min=0.1, max = 50, step=0.1, descriptions='time', disabled=False))"
      ],
      "metadata": {
        "colab": {
          "base_uri": "https://localhost:8080/",
          "height": 556,
          "referenced_widgets": [
            "97b4f75e5a594d73a38e8a2f4adcee43",
            "25fb286b7a33492da1f7bd884e130086",
            "e4f38312064343f4bd71f83624a4a1a0",
            "8acf5f714dbe4a658ae6de360ea60953",
            "810760e7ddcf4d31842648a28e1c1c9e",
            "c0dc2b0fad3d42ccbee0e4ae4dcc203e",
            "fb77f38471504efd8835afb56968a23f"
          ]
        },
        "id": "p7XaG9vMw1eX",
        "outputId": "33ef4d47-f579-4893-d1bd-73d5145ca541"
      },
      "execution_count": 34,
      "outputs": [
        {
          "output_type": "display_data",
          "data": {
            "text/plain": [
              "interactive(children=(FloatSlider(value=10.0, description='t', max=50.0, min=0.1), Output()), _dom_classes=('w…"
            ],
            "application/vnd.jupyter.widget-view+json": {
              "version_major": 2,
              "version_minor": 0,
              "model_id": "97b4f75e5a594d73a38e8a2f4adcee43"
            }
          },
          "metadata": {}
        },
        {
          "output_type": "execute_result",
          "data": {
            "text/plain": [
              "<function __main__.plot_disk_surface_density(t: float)>"
            ]
          },
          "metadata": {},
          "execution_count": 34
        }
      ]
    },
    {
      "cell_type": "markdown",
      "source": [
        "Directly from this, the luminosity of the steady disk will be calculated by integrating the dissipation rate over the disk from the center to the outer radius. Below, I plot luminosity from the disk alone vs. radius on a logarithmic scale. I also added a widget to vary the time, because the luminosity from the disk depends on the surface density of the disk, as seen in the last plot. However, because of how quickly the ring spreads into a disk, I interestingly found that the spreading of the ring does not impact the luminosity of the disk much at all.\n",
        "\n",
        "In addition, this luminosity is of the disk itself, not from accretion on the boundary layer. The matter outside the boundary layer retains half of the potential energy that has been lost as kinetic energy! So what we see here from the disk alone is just a fraction of the accretion luminosity (Pringle 1981). Equation (3.11):\n",
        "\n",
        "\n",
        "![image.png](data:image/png;base64,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)"
      ],
      "metadata": {
        "id": "lDwxC9GWTeed"
      }
    },
    {
      "cell_type": "code",
      "source": [
        "def plot_disk_luminosity(t: float):\n",
        "    N = 1000\n",
        "    R = np.linspace(2.0 * Rstar, 100.0 * Rstar, N + 1)\n",
        "    dR = diff(R)\n",
        "    Rl = R[:-1]\n",
        "    Rf = R[+1:]\n",
        "    Rc = 0.5 * (Rl + Rf)\n",
        "    dt = 0.1 * (dR**2 / kinematic_viscosity(R)).min()\n",
        "    s = 1.0\n",
        "    M = s * pi * (Rf**2 - Rl**2)\n",
        "    s1 = surface_density(M, R, t)\n",
        "\n",
        "    #Vr = radial_velocity(M, R)\n",
        "    # but for R >> Rstar,\n",
        "    Vr = -3 * kinematic_viscosity(R) / (2 * R)\n",
        "    Mdot = 2 * np.pi * R * s1 * -Vr\n",
        "\n",
        "    L = 0.5 * G * M * Mdot[+1:] / Rstar\n",
        "    nu_v = logspace(12, 19, 1000)\n",
        "\n",
        "    fig = plt.figure()\n",
        "    ax = fig.add_subplot(111)\n",
        "\n",
        "    ax.plot(Rc, nu_v*L, \"-o\", mfc=\"none\")\n",
        "    #ax.set_xscale('log')\n",
        "    ax.set_ylim(1e-20, 1e10)\n",
        "    ax.set_yscale('log')\n",
        "    ax.set_xlabel(r'$R$')\n",
        "    ax.set_ylabel(r'$\\nu L_{\\nu} \\rm{[Hz*erg / s]}$')\n",
        "    plt.title('Total Disk Luminosity')\n",
        "    plt.show()"
      ],
      "metadata": {
        "id": "fZbajoNYY3u1"
      },
      "execution_count": 35,
      "outputs": []
    },
    {
      "cell_type": "markdown",
      "source": [
        "Expectedly, the luminosity peaks at smaller radii at earlier times. It spreads out over all radii over time. The luminosity of the disk itself, for the current given parameters, is not substantial."
      ],
      "metadata": {
        "id": "6zDV59KdnlsY"
      }
    },
    {
      "cell_type": "code",
      "source": [
        "interact(plot_disk_luminosity,\n",
        "  t = widgets.FloatSlider(value=10.0, min=0.1, max = 50, step=0.1, descriptions='time', disabled=False))"
      ],
      "metadata": {
        "colab": {
          "base_uri": "https://localhost:8080/",
          "height": 521,
          "referenced_widgets": [
            "3ab13fcd6c51454ba41ff19063405990",
            "0fd4a9706607483181ca3ec9337640c4",
            "e8cfbc2bcf4f4452844183e7d4d95573",
            "3f692ab47cb3412b8494443314fae31d",
            "5d5df8df8fd44b4d8b6703ea85922a5e",
            "16667b0b9e2948e7a3db940c75fd62e9",
            "fc03b48a9aaf4fce83c86e76e7bab5af"
          ]
        },
        "id": "dxFyOGszpP6j",
        "outputId": "d1dff452-8321-4e06-a88e-ce373a85f01d"
      },
      "execution_count": 36,
      "outputs": [
        {
          "output_type": "display_data",
          "data": {
            "text/plain": [
              "interactive(children=(FloatSlider(value=10.0, description='t', max=50.0, min=0.1), Output()), _dom_classes=('w…"
            ],
            "application/vnd.jupyter.widget-view+json": {
              "version_major": 2,
              "version_minor": 0,
              "model_id": "3ab13fcd6c51454ba41ff19063405990"
            }
          },
          "metadata": {}
        },
        {
          "output_type": "execute_result",
          "data": {
            "text/plain": [
              "<function __main__.plot_disk_luminosity(t: float)>"
            ]
          },
          "metadata": {},
          "execution_count": 36
        }
      ]
    },
    {
      "cell_type": "markdown",
      "source": [
        "The next cells begin calculations for the thermal spectrum of the disk, assuming it is an isothermal blackbody (optically thick). A disk temperature profile is derived from these conditions, and from this the spectrum emitted will be calcualted and plotted here."
      ],
      "metadata": {
        "id": "1OqpKA7PWRHC"
      }
    },
    {
      "cell_type": "markdown",
      "source": [
        "Below are functions defining the accretion rate of the disk mass (using the Eddington accretion rate), as well as the radius of the inner most stable orbit around the central black hole (Schwarzschild radius):"
      ],
      "metadata": {
        "id": "oTT92CwIjaET"
      }
    },
    {
      "cell_type": "code",
      "source": [
        "def Mdot_acc(M, edd_frac):\n",
        "  return edd_frac * M /tsal\n",
        "\n",
        "def Risco(M):\n",
        "  return 12 * G * M /c**2"
      ],
      "metadata": {
        "id": "66QiKYVAE2km"
      },
      "execution_count": 37,
      "outputs": []
    },
    {
      "cell_type": "markdown",
      "source": [
        "From here, temperature profiles for the disk and the inner boundary edge of the disk are calculated, as well as the planck spectrum function because the accretion disk is modelled as a blackbody."
      ],
      "metadata": {
        "id": "KFkJQ7sZj9Ia"
      }
    },
    {
      "cell_type": "code",
      "source": [
        "def disk_temperature(R: float, R0: float, M: float, Mdot: float):\n",
        "    \"\"\"\n",
        "    The surface temperature of a steady-state disk with inner radius R0\n",
        "    This is Eqn. 3.23 of Pringle (1981).\n",
        "    \"\"\"\n",
        "    return Tstar(R0, M, Mdot) * ((R0 / R) ** 3 * (1 - sqrt(R0 / R))) ** 0.25\n",
        "\n",
        "\n",
        "def Tstar(R0: float, M: float, Mdot: float):\n",
        "    \"\"\"\n",
        "    The temperature of the inner edge of a steady-state accretion disk\n",
        "    This equation appears below Eqn. 3.23 of Pringle (1981).\n",
        "    \"\"\"\n",
        "    return (3 * G * M * Mdot / (8 * np.pi * R0**3 * sb)) ** 0.25\n",
        "\n",
        "\n",
        "def planck_spectrum(T, nu):\n",
        "    \"\"\"\n",
        "    The specific intensity of a blackbody of temperature T, and frequency nu.\n",
        "    \"\"\"\n",
        "    return 2 * h * nu**3 / c**2 / (exp(h * nu / (k * T)) - 1)\n"
      ],
      "metadata": {
        "id": "sBgEGWv6TdyG"
      },
      "execution_count": 38,
      "outputs": []
    },
    {
      "cell_type": "markdown",
      "source": [
        "Now, the spectrum of the single disk is calculated using the above functions, in short, it is the planck spectrum of the disk temperature. The calculation is performed using a first order integral over the radius of the disk (inner radius to outer radius) to produce the multi-temperature blackbody spectrum. Equation (3.25):\n",
        "\n",
        " ![image.png](data:image/png;base64,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)"
      ],
      "metadata": {
        "id": "cJ3D1VhMlYBP"
      }
    },
    {
      "cell_type": "code",
      "source": [
        "def disk_spectrum(M: float, Mdot: float, R0: float, R, delta: float = 0.1):\n",
        "    \"\"\"\n",
        "    Produce a disk spectrum\n",
        "    Uses a 1st-order integral over disk radius to produce the multi-temperature\n",
        "    BB spectrum of a disk, which extends from R0 to Rout.\n",
        "    Note: the frequency range is currently hard-coded. This should be fixed so\n",
        "    that it has a sensible default range of frequencies.\n",
        "    Note: multiply the result by pi to obtain the isotropic specific power\n",
        "    Inu = integral of 2 * pi * R * dR * Bnu(T(R), nu) from R0 -> Rout\n",
        "    \"\"\"\n",
        "\n",
        "    nu_v = logspace(12, 19, 999)\n",
        "    nu_c = 0.5 * (nu_v[1:] + nu_v[:-1])\n",
        "    R0 = Risco(M)\n",
        "    Rout = 1000\n",
        "    Inu = zeros_like(nu_c)\n",
        "\n",
        "    if Rout < R0:\n",
        "      print('Warning: Rout < R1, the spectrum is zero')\n",
        "\n",
        "    while R < Rout:\n",
        "      dR = R * delta\n",
        "      Inu += 2 * pi * R * dR * planck_spectrum(disk_temperature(R, R0, M, Mdot), nu_c)\n",
        "      R *= 1.0 + delta\n",
        "    return nu_v, Inu\n",
        "\n",
        "def plot_disk_spectrum(M, pref_acc, R, t):\n",
        "    delta=0.001\n",
        "    edd_frac = 1 / (1 + pref_acc)\n",
        "    Mb = M * Msun # Mass of the central black hole in grams\n",
        "    Mdot = Mdot_acc(Mb, 1.0) # Accretion rate of the black hole in g/s\n",
        "\n",
        "    nu_v, Inu = disk_spectrum(M, Mdot, Risco(M), R, delta=0.001)\n",
        "    nu_c = 0.5 * (nu_v[1:] + nu_v[:-1])\n",
        "    Snu = pi * Inu * nu_c\n",
        "\n",
        "    fig = plt.figure()\n",
        "    ax = fig.add_subplot(111)\n",
        "\n",
        "    ax.plot(h * nu_c * erg, Snu, linewidth=1)\n",
        "    ax.set_xscale('log')\n",
        "    ax.set_yscale('log')\n",
        "    ax.set_ylim(1e-20, 1e30)\n",
        "    ax.set_xlabel(r'$h \\nu \\rm{[eV]}$')\n",
        "    ax.set_ylabel(r'$S_{\\nu} \\rm{[erg / s]}$')\n",
        "    ax.legend(loc='lower left')\n",
        "    fig.tight_layout(pad=0.1)\n",
        "    plt.show()"
      ],
      "metadata": {
        "id": "u-IB8grMY4h6"
      },
      "execution_count": 43,
      "outputs": []
    },
    {
      "cell_type": "markdown",
      "source": [
        "Below, widgets allow a viewer to adjust the mass of the disk, the accretion rate, the outer radius, and the time. Notice that varying the time truly does not change too much, becaus I found that the actual spread of the gaseous annulus is quite fast and does not have a significant effect on the overall spectrum emitted. So for this reason, I decided not to make a movie of the disk spectrum over time.\n",
        "\n",
        "Notice that varying the mass of the disk has the most influence on the spectrum."
      ],
      "metadata": {
        "id": "esaVZE9pmdm0"
      }
    },
    {
      "cell_type": "code",
      "source": [
        "interact(plot_disk_spectrum,\n",
        "  M = widgets.FloatSlider(value=1e7, min=1e6, max = 1e8, step=1e4, descriptions='Disk Mass [Msun]:', disabled=False),\n",
        "  pref_acc = widgets.FloatSlider(value=10, min=1, max = 10, step=0.1, descriptions='Preferrential Accretion:', disabled=False),\n",
        "  R = widgets.FloatSlider(value=10, min=1, max = 100, step=0.1, descriptions='Disk Thickness:'),\n",
        "  t = widgets.FloatSlider(value=10.0, min=0.1, max = 10000, step=0.1, descriptions='time', disabled=False))"
      ],
      "metadata": {
        "colab": {
          "base_uri": "https://localhost:8080/",
          "height": 729,
          "referenced_widgets": [
            "3b912bcf2f4e47cf819c9d86a8f9d7ff",
            "0188965017d7446eb7d4d8bd34e7dcd3",
            "ef809b79dabd4b0d984996eb2dd4c7b7",
            "78f04db420e94dd695e2d38b47e7979d",
            "d0e1e57aed224042bd71beb76d52aa61",
            "4073500b7c0a4d2fa6888671c24224c3",
            "28c4ce59fc8e4574b1a46f75a43f9f6d",
            "c775950ca61e48c2a93d3108e51253fd",
            "4c50d7f81b194c4ca3e25369361d9e22",
            "9d4f707c9b6e4a91a898cf746ec892f5",
            "23488c818353439091ddcc5a92928634",
            "a215dd17c4874482a54a3b04efb69028",
            "33d8e314949942a5b8f087f5dd02ccec",
            "7bd9be9d91744154a7617117563da8a6",
            "65fda35473234c91a0c1ab7176974c2b",
            "285d8b957d234c1eb39516b6c2856c0e"
          ]
        },
        "id": "lQrTbXlSliU1",
        "outputId": "bd750e90-bd70-49e2-ac8b-b66ddc13ee05"
      },
      "execution_count": 44,
      "outputs": [
        {
          "output_type": "display_data",
          "data": {
            "text/plain": [
              "interactive(children=(FloatSlider(value=10000000.0, description='M', max=100000000.0, min=1000000.0, step=1000…"
            ],
            "application/vnd.jupyter.widget-view+json": {
              "version_major": 2,
              "version_minor": 0,
              "model_id": "3b912bcf2f4e47cf819c9d86a8f9d7ff"
            }
          },
          "metadata": {}
        },
        {
          "output_type": "execute_result",
          "data": {
            "text/plain": [
              "<function __main__.plot_disk_spectrum(M, pref_acc, R, t)>"
            ]
          },
          "metadata": {},
          "execution_count": 44
        }
      ]
    }
  ]
}