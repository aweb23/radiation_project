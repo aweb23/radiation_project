{
  "nbformat": 4,
  "nbformat_minor": 0,
  "metadata": {
    "colab": {
      "provenance": []
    },
    "kernelspec": {
      "name": "python3",
      "display_name": "Python 3"
    },
    "language_info": {
      "name": "python"
    }
  },
  "cells": [
    {
      "cell_type": "markdown",
      "source": [
        "I will be constructing a jupyter notebook that will compute the spectral evolution of a spreading\n",
        "annulus of gaseous mass orbiting a central force. The spreading annulus is representative\n",
        "of a one dimensional accretion disk model, and my motivation behind this idea is to\n",
        "understand how accretion disks change over time, both dynamically and in terms of the\n",
        "radiation they emit."
      ],
      "metadata": {
        "id": "ZjJIXwCEN5sI"
      }
    },
    {
      "cell_type": "markdown",
      "source": [
        "The next cell will import the necessary libraries such as numpy, scipy (with special functions), and matplotlib."
      ],
      "metadata": {
        "id": "5MEzJvaCO0Bu"
      }
    },
    {
      "cell_type": "code",
      "source": [
        "import numpy as np\n",
        "from numpy import *\n",
        "import scipy\n",
        "from matplotlib import pyplot as plt\n",
        "from scipy import special"
      ],
      "metadata": {
        "id": "uhIHr4-BY0TA"
      },
      "execution_count": 1,
      "outputs": []
    },
    {
      "cell_type": "markdown",
      "source": [
        "The next cell will define relatively simple functions of radius to set up the physics of the spreading annulus of gaseous matter in a keplarian orbit. They are the kinematic viscosity, the kinematic viscosity derivative, angular momentum, angular momentum derivative, disk surface density (also a function of time), circular keplarian velocity, circular keplarian velocity derivative (acceleration), radial velocity, and mass flux. In doing so, this cell generates a visual depiction of the surface density of an accretion disk as a function of radius. In accretion disks, most of the mass moves inward near the initial radius, losing energy and angular momentum. This is seen in the plot below."
      ],
      "metadata": {
        "id": "GQYhHPcKP6Qz"
      }
    },
    {
      "cell_type": "code",
      "source": [
        "GM = 1.0\n",
        "Mdot = 1.0\n",
        "Rstar = 1.0\n",
        "\n",
        "\n",
        "def kinematic_viscosity(R):\n",
        "    return 1e-1\n",
        "\n",
        "\n",
        "def kinematic_viscosity_derivative(R):\n",
        "    return 0.0\n",
        "\n",
        "\n",
        "def keplerian_omega_log_derivative(R):\n",
        "    \"\"\"\n",
        "    Return the shear profile d(Omega) / d(log R)\n",
        "    \"\"\"\n",
        "    return -1.5 * sqrt(GM / R**3)\n",
        "\n",
        "\n",
        "def keplerian_omega(R):\n",
        "    return sqrt(GM / R**3)\n",
        "\n",
        "\n",
        "def specific_angular_momentum(R):\n",
        "    return sqrt(GM * R)\n",
        "\n",
        "\n",
        "def specific_angular_momentum_derivative(R):\n",
        "    return 0.5 * sqrt(GM / R)\n",
        "\n",
        "\n",
        "def sigma(M, R):\n",
        "    \"\"\"\n",
        "    Return the surface density\n",
        "    \"\"\"\n",
        "    return M / (pi * diff(R**2))\n",
        "\n",
        "\n",
        "def radial_velocity(M, R):\n",
        "    \"\"\"\n",
        "    Return the radial gas velocity at the internal zone interfaces\n",
        "\n",
        "    v = d/dR(R g) / (sigma R l')\n",
        "    \"\"\"\n",
        "    Rc = 0.5 * (R[1:] + R[:-1])\n",
        "    s = sigma(M, R)\n",
        "    n = kinematic_viscosity(Rc)\n",
        "    A = keplerian_omega_log_derivative(Rc)\n",
        "    g = Rc * s * n * A\n",
        "    m = specific_angular_momentum_derivative(R[1:-1])\n",
        "    return diff(Rc * g) / diff(Rc) / (0.5 * (s[1:] + s[:-1]) * m * R[1:-1])\n",
        "\n",
        "\n",
        "def sigma2(M, R, t):\n",
        "    \"\"\"\n",
        "    Return the analytic solution for the surface density\n",
        "    \"\"\"\n",
        "    #R0 = R[:-1]\n",
        "    #R1 = R[+1:]\n",
        "    #Rc = 0.5 * (R1 + R0)\n",
        "    m = 1.0\n",
        "    t = 1.0\n",
        "    #Ri = 2.5\n",
        "    Ri = 4.0\n",
        "    n = kinematic_viscosity(R)\n",
        "    tau = 12 * n * (Ri**-2) * t\n",
        "    x = (R/Ri)\n",
        "    return ((m/pi * Ri**2) * tau**(-1) * (x**(-1/4)) * exp(-(1+(x**2))/tau) * scipy.special.iv(0.25, 2 * x / tau))\n",
        "\n",
        "\n",
        "def godunov_fluxes(M, R, ret_torque=False):\n",
        "    R0 = R[:-1]\n",
        "    R1 = R[+1:]\n",
        "\n",
        "    Fhat = zeros_like(R)\n",
        "    s = sigma(M, R)\n",
        "    v_hat = radial_velocity(M, R)\n",
        "    s_hat = (v_hat > 0.0) * s[:-1] + (v_hat < 0.0) * s[1:]\n",
        "    Fhat[1:-1] = 2 * pi * R[1:-1] * s_hat * v_hat\n",
        "\n",
        "    # Boundary conditions on the mass flux:\n",
        "    Fhat[+0] = -Mdot\n",
        "    Fhat[-1] = -Mdot\n",
        "\n",
        "    if ret_torque:\n",
        "        A = keplerian_omega_log_derivative(R)\n",
        "        nu = kinematic_viscosity(R)\n",
        "        Ghat = zeros_like(R)\n",
        "        Ghat[1:-1] = -2 * pi * s_hat * (nu * A * R**2)[1:-1]\n",
        "        return Fhat, Fhat * specific_angular_momentum(R), Ghat\n",
        "    else:\n",
        "        return Fhat\n",
        "\n",
        "\n",
        "def time_derivative(M, R):\n",
        "    Fhat = godunov_fluxes(M, R)\n",
        "    return -diff(Fhat)\n",
        "\n",
        "\n",
        "def plot(M, R, ax=None):\n",
        "    from matplotlib import pyplot as plt\n",
        "\n",
        "    if ax is None:\n",
        "        fig = plt.figure()\n",
        "        ax = fig.add_subplot(111)\n",
        "\n",
        "    R0 = R[:-1]\n",
        "    R1 = R[+1:]\n",
        "    Rc = 0.5 * (R0 + R1)\n",
        "    mdot, Jdot_adv, Jdot_vis = godunov_fluxes(M, R, ret_torque=True)\n",
        "    v = radial_velocity(M, R)\n",
        "    ax.set_xlabel(r\"$R / R_*$\")\n",
        "    # ax.set(xlim = (70, 100))\n",
        "    ax.legend()\n",
        "    return ax\n",
        "\n",
        "\n",
        "def main():\n",
        "    N = 1000\n",
        "    R = linspace(2.0 * Rstar, 100.0 * Rstar, N + 1)\n",
        "    dR = diff(R)\n",
        "    R0 = R[:-1]\n",
        "    R1 = R[+1:]\n",
        "    Rc = 0.5 * (R0 + R1)\n",
        "    dt = 0.1 * (dR**2 / kinematic_viscosity(R)).min()\n",
        "\n",
        "    # initial condition for a constant-nu disk:\n",
        "    #nu = kinematic_viscosity(0.0)\n",
        "    #s = Mdot / (3 * pi * nu) * (1 - sqrt(Rstar / Rc)) + 0.5 * exp(\n",
        "    #    -((Rc - 20.0) ** 2) / 20.0\n",
        "    #)\n",
        "\n",
        "    t = 0.01\n",
        "    tinitial = 0.01\n",
        "    tfinal = 10.0\n",
        "\n",
        "    s = 1.0\n",
        "    M = s * pi * (R1**2 - R0**2)\n",
        "    n = 0\n",
        "\n",
        "    fig = plt.figure()\n",
        "    ax = fig.add_subplot(111)\n",
        "\n",
        "    if plot:\n",
        "        plot(M, R, ax=ax)\n",
        "    s1 = sigma2(M, R, tinitial)\n",
        "    s2 = sigma2(M, R, tfinal)/1.001\n",
        "    ax.plot(R, s1, \"-o\", mfc=\"none\", label=r\"$\\Sigma$ Numerical\")\n",
        "    ax.plot(R, s2, \"-o\", mfc=\"none\", label=r\"$\\Sigma$ Analytic\")\n",
        "\n",
        "    while t < tfinal:\n",
        "        K = time_derivative(M, R)\n",
        "        M += K * dt\n",
        "        t += dt\n",
        "        n += 1\n",
        "        #print(f\"[{n:04d}] t={t:04f}\")\n",
        "\n",
        "    if plot:\n",
        "        # plot(M, R, ax=ax)\n",
        "        plt.title('Disk Surface Density')\n",
        "        plt.xlim([0, 20])\n",
        "        plt.show()\n",
        "\n",
        "main()"
      ],
      "metadata": {
        "id": "weTemHMxY01e",
        "colab": {
          "base_uri": "https://localhost:8080/",
          "height": 509
        },
        "outputId": "5c3027e4-b370-41c6-8e05-ef02cf686f9d"
      },
      "execution_count": 167,
      "outputs": [
        {
          "output_type": "stream",
          "name": "stderr",
          "text": [
            "WARNING:matplotlib.legend:No artists with labels found to put in legend.  Note that artists whose label start with an underscore are ignored when legend() is called with no argument.\n"
          ]
        },
        {
          "output_type": "display_data",
          "data": {
            "text/plain": [
              "<Figure size 640x480 with 1 Axes>"
            ],
            "image/png": "[encoded data removed]"
          },
          "metadata": {}
        }
      ]
    },
    {
      "cell_type": "markdown",
      "source": [
        "The mass dissipation rate of the disk will then be calcualted under the assumption of a steady disk. This rate is based on the kinematic viscosity, disk surface density, and the circular keplarian acceleration. Directly from this, the luminosity of the steady disk will be calculated by integrating the dissipation rate over the disk from the center to infinity. In the next cell, I plot luminosity vs. frequency on a logarithmic scale."
      ],
      "metadata": {
        "id": "lDwxC9GWTeed"
      }
    },
    {
      "cell_type": "code",
      "source": [
        "tinitial = 1.0\n",
        "N = 1000\n",
        "R = np.linspace(2.0 * Rstar, 100.0 * Rstar, N + 1)\n",
        "dR = diff(R)\n",
        "R0 = R[:-1]\n",
        "R1 = R[+1:]\n",
        "Rc = 0.5 * (R0 + R1)\n",
        "dt = 0.1 * (dR**2 / kinematic_viscosity(R)).min()\n",
        "s = 1.0\n",
        "M = s * pi * (R1**2 - R0**2)\n",
        "s1 = sigma2(M, R, tinitial)\n",
        "G = 10**-11\n",
        "nu_v = logspace(12, 19, 999)\n",
        "\n",
        "#Vr = radial_velocity(M, R)\n",
        "# for R >> Rstar,\n",
        "Vr = -3 * kinematic_viscosity(R) / (2 * R)\n",
        "\n",
        "#Mdot = 2 * np.pi * R * np.dot(s1[:-2], -Vr)\n",
        "# for R >> Rstar,\n",
        "Mdot = 2 * np.pi * R * np.dot(s1, -Vr)\n",
        "#Mdot = 1.0\n",
        "\n",
        "L = 0.5 * G * M * Mdot[+1:] / Rstar   #Mdot[:-1]\n",
        "\n",
        "plt.plot(nu_v, L[:-1], \"-o\", mfc=\"none\")\n",
        "plt.xscale('log')\n",
        "plt.yscale('log')\n",
        "plt.xlabel('nu')\n",
        "plt.ylabel('L')\n",
        "plt.title('Disk Luminosity')\n",
        "plt.show()"
      ],
      "metadata": {
        "id": "fZbajoNYY3u1",
        "colab": {
          "base_uri": "https://localhost:8080/",
          "height": 476
        },
        "outputId": "bb12bef3-605d-4afe-99e6-cc040b1af7ed"
      },
      "execution_count": 166,
      "outputs": [
        {
          "output_type": "display_data",
          "data": {
            "text/plain": [
              "<Figure size 640x480 with 1 Axes>"
            ],
            "image/png": "[encoded data removed]"
          },
          "metadata": {}
        }
      ]
    },
    {
      "cell_type": "markdown",
      "source": [
        "The next cell begins calculations for the thermal spectrum of the disk, assuming it is an isothermal blackbody; optically thick. A disk temperature profile is derived from these conditions, and from this the spectrum emitted will be calcualted and plotted here."
      ],
      "metadata": {
        "id": "1OqpKA7PWRHC"
      }
    },
    {
      "cell_type": "code",
      "source": [
        "def disk_temperature(R: float, R0: float, M: float, Mdot: float):\n",
        "    \"\"\"\n",
        "    The surface temperature of a steady-state disk with inner radius R0\n",
        "    This is Eqn. 3.23 of Pringle (1981).\n",
        "    \"\"\"\n",
        "    return Tstar(R0, M, Mdot) * ((R0 / R) ** 3 * (1 - sqrt(R0 / R))) ** 0.25\n",
        "\n",
        "\n",
        "def Tstar(R0: float, M: float, Mdot: float):\n",
        "    \"\"\"\n",
        "    The temperature of the inner edge of a steady-state accretion disk\n",
        "    This equation appears below Eqn. 3.23 of Pringle (1981); note there is a\n",
        "    typo in the paper: the R is missing a subscript \"star\".\n",
        "    \"\"\"\n",
        "    return (3 * G * M * Mdot[:-1] / (8 * np.pi * R0**3 * sb)) ** 0.25\n",
        "\n",
        "\n",
        "def planck_spectrum(T, nu):\n",
        "    \"\"\"\n",
        "    The specific intensity of a blackbody of temperature T, and frequency nu.\n",
        "    \"\"\"\n",
        "    return 2 * h * nu**3 / c**2 / (exp(h * nu / (k * T)) - 1)\n",
        "\n",
        "\n",
        "def disk_spectrum(M: float, Mdot: float, R0: float, Rout: float, delta: float = 0.1):\n",
        "    \"\"\"\n",
        "    Produce a disk spectrum\n",
        "    Uses a 1st-order integral over disk radius to produce the multi-temperature\n",
        "    BB spectrum of a disk, which extends from R0 to Rout.\n",
        "    Note: the frequency range is currently hard-coded. This should be fixed so\n",
        "    that it has a sensible default range of frequencies.\n",
        "    Note: multiply the result by pi to obtain the isotropic specific power\n",
        "    Inu = integral of 2 * pi * R * dR * Bnu(T(R), nu) from R0 -> Rout\n",
        "    \"\"\"\n",
        "    nu_v = logspace(12, 19, 999)\n",
        "    nu_c = 0.5 * (nu_v[1:] + nu_v[:-1])\n",
        "    R = R0 * 1.0001\n",
        "    R1 = Rout\n",
        "    Inu = zeros_like(nu_c)\n",
        "    dR = R * delta\n",
        "    Inu += 2 * pi * R * dR * planck_spectrum(disk_temperature(R, R0, M, Mdot), nu_c)\n",
        "    R *= 1.0 + delta\n",
        "    return nu_v, Inu\n",
        "    nu_v, Inu1 = disk_spectrum(M, Mdot, R0, Rout, delta=0.001)\n",
        "    plt.plot(nu_v, Inu1, \"-o\", mfc=\"none\")\n",
        "\n",
        "#disk_spectrum(M, Mdot, R0, R)"
      ],
      "metadata": {
        "id": "u-IB8grMY4h6"
      },
      "execution_count": 163,
      "outputs": []
    },
    {
      "cell_type": "markdown",
      "source": [
        "To represent how the spectrum evolves over time, I will next plot the spectrum at key times during the spreading of the gaseous annulus overlayed by varying the time parameter of the disk's surface density. I'm considering adding a widget on a seperate spectrum plot as well to vary the time."
      ],
      "metadata": {
        "id": "ogbMgdjaYB6D"
      }
    }
  ]
}